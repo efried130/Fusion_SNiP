{
 "cells": [
  {
   "cell_type": "code",
   "execution_count": 49,
   "id": "75603d4e-2b86-43da-930e-bd0564fdd4a4",
   "metadata": {},
   "outputs": [
    {
     "data": {
      "text/plain": [
       "'/nas/cee-water/cjgleason/ellie/SNiP/Aquasat'"
      ]
     },
     "execution_count": 49,
     "metadata": {},
     "output_type": "execute_result"
    }
   ],
   "source": [
    "#module imports\n",
    "import os\n",
    "import numpy as np\n",
    "import pandas as pd\n",
    "import matplotlib.pyplot as plt\n",
    "import seaborn as sns\n",
    "import plotly.express as px\n",
    "import glob\n",
    "\n",
    "os.getcwd()"
   ]
  },
  {
   "cell_type": "code",
   "execution_count": 50,
   "id": "f170278b-bdec-4dd8-9ca0-11b460a3522e",
   "metadata": {},
   "outputs": [
    {
     "name": "stdout",
     "output_type": "stream",
     "text": [
      "83948\n",
      "['system.index', 'SiteID', 'blue', 'blue_sd', 'date_unity', 'green', 'green_sd', 'nir', 'nir_sd', 'path', 'pixelCount', 'qa', 'qa_sd', 'red', 'red_sd', 'row', 'sat', 'swir1', 'swir1_sd', 'swir2', 'swir2_sd', '.geo', 'endtime', 'date', 'date_only', 'chl_a', 'doc', 'p_sand', 'secchi', 'tis', 'tss', 'source', 'lat', 'long', 'TZID', 'date_utc', 'clouds', 'time', 'landsat_id', 'timediff', 'pwater', 'type', 'id']\n",
      "       system.index         SiteID     blue      blue_sd  \\\n",
      "83783            40  USGS-15292780    984.0     0.000000   \n",
      "83784            42  USGS-15292780    730.0    63.803299   \n",
      "83785            44  USGS-15292780   5840.0  3879.929111   \n",
      "83786            45  USGS-15292780    633.0    29.461859   \n",
      "83787            47  USGS-15292780  20000.0  4352.581595   \n",
      "83829             0  USGS-15292780    624.0    73.649146   \n",
      "\n",
      "                 date_unity   green    green_sd     nir       nir_sd  path  \\\n",
      "83783  2013-08-13T00:15:00Z  1134.0    0.000000  1223.0     0.000000    69   \n",
      "83784  1984-09-21T21:35:00Z   842.0   79.111318   440.0    88.849475    69   \n",
      "83785  1986-03-19T00:45:00Z  6394.0  882.130984  5519.0  1059.566754    69   \n",
      "83786  1986-05-22T17:30:00Z   871.0   38.260726   704.0    33.011356    69   \n",
      "83787  2012-03-20T03:30:00Z  7987.0  495.971325  7875.0   520.437022    69   \n",
      "83829  1985-09-16T22:05:00Z   826.0   97.029665   632.0    85.502102    70   \n",
      "\n",
      "       ...        long  TZID              date_utc  clouds  \\\n",
      "83783  ... -150.172672   UTC  2013-08-13T00:15:00Z    51.0   \n",
      "83784  ... -150.172672   UTC  1984-09-21T21:35:00Z    26.0   \n",
      "83785  ... -150.172672   UTC  1986-03-19T00:45:00Z     9.0   \n",
      "83786  ... -150.172672   UTC  1986-05-22T17:30:00Z     5.0   \n",
      "83787  ... -150.172672   UTC  2012-03-20T03:30:00Z    48.0   \n",
      "83829  ... -150.172672   UTC  1985-09-16T22:05:00Z    39.0   \n",
      "\n",
      "                       time                                landsat_id  \\\n",
      "83783  2013-08-13T21:09:04Z  LE07_L1TP_069017_20130813_20160907_01_T1   \n",
      "83784  1984-09-22T20:43:56Z  LT05_L1TP_069017_19840922_20161004_01_T1   \n",
      "83785  1986-03-20T20:39:47Z  LT05_L1TP_069017_19860320_20161004_01_T1   \n",
      "83786  1986-05-23T20:38:15Z  LT05_L1TP_069017_19860523_20161004_01_T1   \n",
      "83787  2012-03-19T21:07:56Z  LE07_L1TP_069017_20120319_20160912_01_T1   \n",
      "83829  1985-09-16T20:48:51Z  LT05_L1TP_070016_19850916_20161004_01_T1   \n",
      "\n",
      "        timediff  pwater    type   id  \n",
      "83783 -20.901293    96.0  Stream  New  \n",
      "83784 -23.148916    96.0  Stream  New  \n",
      "83785 -43.913129    96.0  Stream  New  \n",
      "83786 -27.137516    96.0  Stream  New  \n",
      "83787   6.367596    96.0  Stream  New  \n",
      "83829   1.269025    96.0  Stream  New  \n",
      "\n",
      "[6 rows x 43 columns]\n"
     ]
    }
   ],
   "source": [
    "#Read in aquasat\n",
    "aqua = pd.read_csv(r'aquastreamTSS.csv')\n",
    "print(aqua.shape[0])\n",
    "print(aqua.columns.values.tolist())\n",
    "\n",
    "print(aqua[aqua['SiteID'] == 'USGS-15292780'])\n"
   ]
  },
  {
   "cell_type": "code",
   "execution_count": 51,
   "id": "20c65fc1-66b4-4f09-a592-fecfeca896ed",
   "metadata": {},
   "outputs": [
    {
     "name": "stdout",
     "output_type": "stream",
     "text": [
      "83948\n"
     ]
    }
   ],
   "source": [
    "#Clean for stream and for tss\n",
    "aquatss = aqua[aqua['tss'] > 0]\n",
    "df = aquatss[aquatss['type'] == 'Stream']\n",
    "print(df.shape[0])\n",
    "\n"
   ]
  },
  {
   "cell_type": "code",
   "execution_count": 52,
   "id": "888081a7-04c9-4d62-90e9-ae3a1af9b35f",
   "metadata": {},
   "outputs": [
    {
     "name": "stdout",
     "output_type": "stream",
     "text": [
      "['system.index', 'SiteID', 'blue', 'blue_sd', 'date_unity', 'green', 'green_sd', 'nir', 'nir_sd', 'path', 'pixelCount', 'qa', 'qa_sd', 'red', 'red_sd', 'row', 'sat', 'swir1', 'swir1_sd', 'swir2', 'swir2_sd', '.geo', 'endtime', 'date', 'date_only', 'chl_a', 'doc', 'p_sand', 'secchi', 'tis', 'tss', 'source', 'lat', 'long', 'TZID', 'date_utc', 'clouds', 'time', 'landsat_id', 'timediff', 'pwater', 'type', 'id', 'NR', 'BR', 'GR', 'SR', 'BG', 'RG', 'NG', 'SG', 'BN', 'GN', 'RN', 'SN', 'BS', 'GS', 'RS', 'NS', 'R_GN', 'R_GB', 'R_GS', 'R_BN', 'R_BS', 'R_NS', 'G_BR', 'G_BN', 'G_BS', 'G_RN', 'G_RB', 'G_NS', 'B_RG', 'B_RN', 'B_RS', 'B_GN', 'B_GS', 'B_NS', 'N_RG', 'N_RB', 'N_RS', 'N_GB', 'N_GS', 'N_BS', 'GR2', 'GN2', 'RN2', 'BR_G', 'NS_NR', 'fai', 'N_S', 'N_R', 'ndvi', 'ndwi', 'ndssi', 'gn_gn', 'Matchup']\n"
     ]
    }
   ],
   "source": [
    "#add band ratios of interest\n",
    "df = df.assign(NR = df['nir']/df['red'],\n",
    "                BR = df['blue']/df['red'],\n",
    "                GR = df['green']/df['red'],\n",
    "                SR = df['swir1']/df['red'],\n",
    "                BG = df['blue']/df['green'],\n",
    "                RG = df['red']/df['green'],\n",
    "                NG = df['nir']/df['green'],\n",
    "                SG = df['swir1']/df['green'],\n",
    "                BN = df['blue']/df['nir'],\n",
    "                GN = df['green']/df['nir'],\n",
    "                RN = df['red']/df['nir'],\n",
    "                SN = df['swir1']/df['nir'],\n",
    "                BS = df['blue']/df['swir1'],\n",
    "                GS = df['green']/df['swir1'],\n",
    "                RS = df['red']/df['swir1'],\n",
    "                NS = df['nir']/df['swir1'],\n",
    "                R_GN = df['red']/ (df['green'] + df['nir']),\n",
    "                R_GB = df['red']/ (df['green'] + df['blue']),\n",
    "                R_GS = df['red']/ (df['green'] + df['swir1']),\n",
    "                R_BN = df['red']/ (df['blue'] + df['nir']),\n",
    "                R_BS = df['red']/ (df['blue'] + df['swir1']),\n",
    "                R_NS = df['red']/ (df['nir'] + df['swir1']),\n",
    "                G_BR = df['green']/ (df['blue'] + df['red']),\n",
    "                G_BN = df['green'] / (df['blue'] + df['nir']),\n",
    "                G_BS = df['green'] / (df['blue'] + df['swir1']),\n",
    "                G_RN = df['green'] / (df['red'] + df['nir']),\n",
    "                G_RB = df['green'] / (df['red'] + df['blue']),\n",
    "                G_NS = df['green'] / (df['nir'] + df['swir1']),\n",
    "                B_RG = df['blue'] / (df['red'] + df['green']),\n",
    "                B_RN = df['blue'] / (df['red'] + df['nir']),\n",
    "                B_RS = df['blue'] / (df['red'] + df['swir1']),\n",
    "                B_GN = df['blue'] / (df['green'] + df['nir']),\n",
    "                B_GS = df['blue'] / (df['green'] + df['swir1']),\n",
    "                B_NS = df['blue'] / (df['nir'] + df['swir1']),\n",
    "                N_RG = df['nir'] / (df['red'] + df['green']),\n",
    "                N_RB = df['nir'] / (df['red'] + df['blue']),\n",
    "                N_RS = df['nir'] / (df['red'] + df['swir1']),\n",
    "                N_GB = df['nir'] / (df['green'] + df['blue']),\n",
    "                N_GS = df['nir'] / (df['green'] + df['swir1']),\n",
    "                N_BS = df['nir'] / (df['blue']  + df['swir1']),\n",
    "                \n",
    "                GR2 = (df['green'] + df['red']) / 2,\n",
    "                GN2 = (df['green'] + df['nir']) / 2,\n",
    "                RN2 = (df['red'] + df['nir']) / 2,\n",
    "               \n",
    "                #blooms\n",
    "                BR_G = (df['blue'] - df['red']) / df['green'],\n",
    "                NS_NR = (df['nir'] - df['swir1']) / (df['red'] - df['swir1']),\n",
    "                fai = df['nir'] - (df['red'] + (df['swir1']-df['red'])*((830-660)/(1650-660))),\n",
    "                # fai = (nir - red) + (red -swir) * (830-660)/(1648-660)\n",
    "                N_S= df['nir'] - df['swir1'],\n",
    "                N_R = df['nir']- df['red'],\n",
    "                #\n",
    "                ndvi = ((df['nir']-df['red'])/(df['nir']+df['red'])),\n",
    "                ndwi = ((df['green']- df['swir1'])/(df['green'] + df['swir1'])),\n",
    "                ndssi = ((df['blue'] - df['nir'])/ (df['blue'] + df['nir'])),\n",
    "                gn_gn= ((df['green']- df['nir'])/ (df['green'] + df['nir'])),\n",
    "                Matchup = 'AquaSat')\n",
    "\n",
    "print(df.columns.values.tolist())"
   ]
  },
  {
   "cell_type": "code",
   "execution_count": 53,
   "id": "6d084236-5747-431d-93af-9c9c0caf543d",
   "metadata": {},
   "outputs": [
    {
     "name": "stdout",
     "output_type": "stream",
     "text": [
      "0    1990-04-19\n",
      "1    1988-04-13\n",
      "2    1989-10-09\n",
      "3    1986-08-05\n",
      "4    1986-06-18\n",
      "Name: date, dtype: object\n"
     ]
    }
   ],
   "source": [
    "print(df.date.head())"
   ]
  },
  {
   "cell_type": "code",
   "execution_count": 54,
   "id": "9dd14e18-bf53-4dc5-ad73-430ebf3da0d2",
   "metadata": {},
   "outputs": [
    {
     "name": "stdout",
     "output_type": "stream",
     "text": [
      "['date', 'parameter', 'SiteID', 'huc', 'org', 'org_id', 'time', 'sample_method', 'analytical_method', 'particle_size', 'date_time', 'media', 'fraction', 'status', 'hydroCondition', 'hydroEvent', 'lat', 'long', 'datum', 'parameter_name', 'value', 'units', 'sample_depth', 'sample_depth_unit']\n",
      "         date                               parameter         SiteID      huc  \\\n",
      "0  1984-07-17  Suspended Sediment Concentration (SSC)  USGS-01015000  1010009   \n",
      "1  1986-08-05  Suspended Sediment Concentration (SSC)  USGS-01015000  1010009   \n",
      "2  1985-07-10  Suspended Sediment Concentration (SSC)  USGS-01015000  1010009   \n",
      "3  1987-08-26  Suspended Sediment Concentration (SSC)  USGS-01015000  1010009   \n",
      "4  1984-05-08  Suspended Sediment Concentration (SSC)  USGS-01015000  1010009   \n",
      "\n",
      "                               org   org_id      time sample_method  \\\n",
      "0  USGS Maine Water Science Center  USGS-ME  21:00:00          USGS   \n",
      "1  USGS Maine Water Science Center  USGS-ME  14:30:00          USGS   \n",
      "2  USGS Maine Water Science Center  USGS-ME  14:00:00          USGS   \n",
      "3  USGS Maine Water Science Center  USGS-ME  18:00:00          USGS   \n",
      "4  USGS Maine Water Science Center  USGS-ME  14:30:00          USGS   \n",
      "\n",
      "  analytical_method particle_size  ...        hydroCondition      hydroEvent  \\\n",
      "0               NaN   < 0.0625 mm  ...  Stable, normal stage  Routine sample   \n",
      "1               NaN   < 0.0625 mm  ...  Stable, normal stage  Routine sample   \n",
      "2               NaN   < 0.0625 mm  ...  Stable, normal stage  Routine sample   \n",
      "3               NaN   < 0.0625 mm  ...  Stable, normal stage  Routine sample   \n",
      "4               NaN   < 0.0625 mm  ...  Stable, normal stage  Routine sample   \n",
      "\n",
      "         lat       long  datum parameter_name  value  units sample_depth  \\\n",
      "0  47.159806 -67.931169  NAD83         p.sand   70.0      %          NaN   \n",
      "1  47.159806 -67.931169  NAD83         p.sand   81.0      %          NaN   \n",
      "2  47.159806 -67.931169  NAD83         p.sand   55.0      %          NaN   \n",
      "3  47.159806 -67.931169  NAD83         p.sand   82.0      %          NaN   \n",
      "4  47.159806 -67.931169  NAD83         p.sand   36.0      %          NaN   \n",
      "\n",
      "  sample_depth_unit  \n",
      "0                 m  \n",
      "1                 m  \n",
      "2                 m  \n",
      "3                 m  \n",
      "4                 m  \n",
      "\n",
      "[5 rows x 24 columns]\n"
     ]
    }
   ],
   "source": [
    "wqpEx = pd.read_csv('/nas/cee-water/cjgleason/ellie/SNiP/RFmodel/CONUS/WQP/WQP_tss/wqp_huc01_tss_clean.csv')\n",
    "print(wqpEx.columns.values.tolist())\n",
    "print(wqpEx.head())"
   ]
  },
  {
   "cell_type": "code",
   "execution_count": 55,
   "id": "14bcb671-03a8-42f5-8814-7cba926166b1",
   "metadata": {},
   "outputs": [
    {
     "name": "stderr",
     "output_type": "stream",
     "text": [
      "/scratch/ceewater-cpu001/6672466/ipykernel_3455331/749122402.py:2: DtypeWarning: Columns (9) have mixed types. Specify dtype option on import or set low_memory=False.\n",
      "  dataframe = pd.concat(map(pd.read_csv, file_list), ignore_index=True)\n",
      "/scratch/ceewater-cpu001/6672466/ipykernel_3455331/749122402.py:2: DtypeWarning: Columns (9) have mixed types. Specify dtype option on import or set low_memory=False.\n",
      "  dataframe = pd.concat(map(pd.read_csv, file_list), ignore_index=True)\n",
      "/scratch/ceewater-cpu001/6672466/ipykernel_3455331/749122402.py:2: DtypeWarning: Columns (9) have mixed types. Specify dtype option on import or set low_memory=False.\n",
      "  dataframe = pd.concat(map(pd.read_csv, file_list), ignore_index=True)\n",
      "/scratch/ceewater-cpu001/6672466/ipykernel_3455331/749122402.py:2: DtypeWarning: Columns (9) have mixed types. Specify dtype option on import or set low_memory=False.\n",
      "  dataframe = pd.concat(map(pd.read_csv, file_list), ignore_index=True)\n",
      "/scratch/ceewater-cpu001/6672466/ipykernel_3455331/749122402.py:2: DtypeWarning: Columns (9) have mixed types. Specify dtype option on import or set low_memory=False.\n",
      "  dataframe = pd.concat(map(pd.read_csv, file_list), ignore_index=True)\n",
      "/scratch/ceewater-cpu001/6672466/ipykernel_3455331/749122402.py:2: DtypeWarning: Columns (9) have mixed types. Specify dtype option on import or set low_memory=False.\n",
      "  dataframe = pd.concat(map(pd.read_csv, file_list), ignore_index=True)\n",
      "/scratch/ceewater-cpu001/6672466/ipykernel_3455331/749122402.py:2: DtypeWarning: Columns (9) have mixed types. Specify dtype option on import or set low_memory=False.\n",
      "  dataframe = pd.concat(map(pd.read_csv, file_list), ignore_index=True)\n",
      "/scratch/ceewater-cpu001/6672466/ipykernel_3455331/749122402.py:2: DtypeWarning: Columns (9) have mixed types. Specify dtype option on import or set low_memory=False.\n",
      "  dataframe = pd.concat(map(pd.read_csv, file_list), ignore_index=True)\n",
      "/scratch/ceewater-cpu001/6672466/ipykernel_3455331/749122402.py:2: DtypeWarning: Columns (9) have mixed types. Specify dtype option on import or set low_memory=False.\n",
      "  dataframe = pd.concat(map(pd.read_csv, file_list), ignore_index=True)\n",
      "/scratch/ceewater-cpu001/6672466/ipykernel_3455331/749122402.py:9: DtypeWarning: Columns (9) have mixed types. Specify dtype option on import or set low_memory=False.\n",
      "  dataframe2 = pd.concat(map(pd.read_csv, file_list2), ignore_index=True)\n",
      "/scratch/ceewater-cpu001/6672466/ipykernel_3455331/749122402.py:9: DtypeWarning: Columns (9) have mixed types. Specify dtype option on import or set low_memory=False.\n",
      "  dataframe2 = pd.concat(map(pd.read_csv, file_list2), ignore_index=True)\n",
      "/scratch/ceewater-cpu001/6672466/ipykernel_3455331/749122402.py:9: DtypeWarning: Columns (9) have mixed types. Specify dtype option on import or set low_memory=False.\n",
      "  dataframe2 = pd.concat(map(pd.read_csv, file_list2), ignore_index=True)\n",
      "/scratch/ceewater-cpu001/6672466/ipykernel_3455331/749122402.py:9: DtypeWarning: Columns (9) have mixed types. Specify dtype option on import or set low_memory=False.\n",
      "  dataframe2 = pd.concat(map(pd.read_csv, file_list2), ignore_index=True)\n",
      "/scratch/ceewater-cpu001/6672466/ipykernel_3455331/749122402.py:9: DtypeWarning: Columns (9) have mixed types. Specify dtype option on import or set low_memory=False.\n",
      "  dataframe2 = pd.concat(map(pd.read_csv, file_list2), ignore_index=True)\n",
      "/scratch/ceewater-cpu001/6672466/ipykernel_3455331/749122402.py:9: DtypeWarning: Columns (9) have mixed types. Specify dtype option on import or set low_memory=False.\n",
      "  dataframe2 = pd.concat(map(pd.read_csv, file_list2), ignore_index=True)\n",
      "/scratch/ceewater-cpu001/6672466/ipykernel_3455331/749122402.py:9: DtypeWarning: Columns (9) have mixed types. Specify dtype option on import or set low_memory=False.\n",
      "  dataframe2 = pd.concat(map(pd.read_csv, file_list2), ignore_index=True)\n",
      "/scratch/ceewater-cpu001/6672466/ipykernel_3455331/749122402.py:9: DtypeWarning: Columns (9) have mixed types. Specify dtype option on import or set low_memory=False.\n",
      "  dataframe2 = pd.concat(map(pd.read_csv, file_list2), ignore_index=True)\n",
      "/scratch/ceewater-cpu001/6672466/ipykernel_3455331/749122402.py:9: DtypeWarning: Columns (9) have mixed types. Specify dtype option on import or set low_memory=False.\n",
      "  dataframe2 = pd.concat(map(pd.read_csv, file_list2), ignore_index=True)\n"
     ]
    }
   ],
   "source": [
    "file_list = glob.glob(os.path.join('/nas/cee-water/cjgleason/ellie/SNiP/RFmodel/CONUS/WQP/WQP_tss/', '*.csv'))\n",
    "dataframe = pd.concat(map(pd.read_csv, file_list), ignore_index=True)\n",
    "\n",
    "dataframe = dataframe[['date', 'parameter', 'SiteID', 'huc', 'org', 'org_id', 'sample_method', 'analytical_method', \n",
    "                               'particle_size', 'media', 'fraction', 'status', 'hydroCondition', 'hydroEvent', \n",
    "                               'datum', 'parameter_name', 'units', 'sample_depth', \n",
    "                               'sample_depth_unit']]\n",
    "file_list2 = glob.glob(os.path.join('/nas/cee-water/cjgleason/ellie/SNiP/RFmodel/CONUS/WQP/WQP_notAquasat/', '*.csv'))\n",
    "dataframe2 = pd.concat(map(pd.read_csv, file_list2), ignore_index=True)\n",
    "\n",
    "dataframe2 = dataframe2[['date', 'parameter', 'SiteID', 'huc', 'org', 'org_id', 'sample_method', 'analytical_method', \n",
    "                               'particle_size', 'media', 'fraction', 'status', 'hydroCondition', 'hydroEvent', \n",
    "                               'datum', 'parameter_name', 'units', 'sample_depth', \n",
    "                               'sample_depth_unit']]"
   ]
  },
  {
   "cell_type": "code",
   "execution_count": 56,
   "id": "3cd51719-2f73-4d38-9322-4fbb6e80c5e0",
   "metadata": {},
   "outputs": [],
   "source": [
    "dataframe3 = pd.concat([dataframe, dataframe2], axis=0)\n"
   ]
  },
  {
   "cell_type": "code",
   "execution_count": 57,
   "id": "8b0bf12d-a1d1-4b88-b14d-4597c175bb9e",
   "metadata": {},
   "outputs": [
    {
     "name": "stdout",
     "output_type": "stream",
     "text": [
      "88597\n"
     ]
    }
   ],
   "source": [
    "#Re-add metadata: \n",
    "joined_df = pd.merge(df, dataframe3, on=join_on_column, how='left')\n",
    "print(joined_df.shape[0])"
   ]
  },
  {
   "cell_type": "code",
   "execution_count": 58,
   "id": "265eee78-cf89-448c-8ed7-ab3c5b03ba67",
   "metadata": {},
   "outputs": [],
   "source": [
    "#write to csv\n",
    "#df.to_csv(r'aquasat_stream_tss.csv')\n",
    "joined_df.to_csv(r'aquasat_stream_tss.csv')"
   ]
  },
  {
   "cell_type": "code",
   "execution_count": null,
   "id": "6c0c3cfc-4755-40ec-bdb6-a9f759ec4261",
   "metadata": {},
   "outputs": [],
   "source": []
  },
  {
   "cell_type": "code",
   "execution_count": null,
   "id": "6bec0abe-753c-459e-ae51-5c9f1620d6cc",
   "metadata": {},
   "outputs": [],
   "source": []
  },
  {
   "cell_type": "code",
   "execution_count": null,
   "id": "26bca2a7-5311-4485-b05b-96f8037609bf",
   "metadata": {},
   "outputs": [],
   "source": []
  }
 ],
 "metadata": {
  "kernelspec": {
   "display_name": "Python (.conda-fusion_SNiP)",
   "language": "python",
   "name": "conda-env-.conda-fusion_SNiP-py"
  },
  "language_info": {
   "codemirror_mode": {
    "name": "ipython",
    "version": 3
   },
   "file_extension": ".py",
   "mimetype": "text/x-python",
   "name": "python",
   "nbconvert_exporter": "python",
   "pygments_lexer": "ipython3",
   "version": "3.10.10"
  }
 },
 "nbformat": 4,
 "nbformat_minor": 5
}
