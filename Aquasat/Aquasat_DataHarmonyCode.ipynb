{
 "cells": [
  {
   "cell_type": "code",
   "execution_count": 1,
   "id": "freelance-moscow",
   "metadata": {},
   "outputs": [
    {
     "ename": "ERROR",
     "evalue": "Error: package or namespace load failed for ‘readr’:\n .onLoad failed in loadNamespace() for 'readr', details:\n  call: loadNamespace(name)\n  error: there is no package called ‘tzdb’\n",
     "output_type": "error",
     "traceback": [
      "Error: package or namespace load failed for ‘readr’:\n .onLoad failed in loadNamespace() for 'readr', details:\n  call: loadNamespace(name)\n  error: there is no package called ‘tzdb’\nTraceback:\n",
      "1. library(readr, lib.loc = \"/nas/cee-water/cjgleason/r-lib/\")",
      "2. tryCatch({\n .     attr(package, \"LibPath\") <- which.lib.loc\n .     ns <- loadNamespace(package, lib.loc)\n .     env <- attachNamespace(ns, pos = pos, deps, exclude, include.only)\n . }, error = function(e) {\n .     P <- if (!is.null(cc <- conditionCall(e))) \n .         paste(\" in\", deparse(cc)[1L])\n .     else \"\"\n .     msg <- gettextf(\"package or namespace load failed for %s%s:\\n %s\", \n .         sQuote(package), P, conditionMessage(e))\n .     if (logical.return) \n .         message(paste(\"Error:\", msg), domain = NA)\n .     else stop(msg, call. = FALSE, domain = NA)\n . })",
      "3. tryCatchList(expr, classes, parentenv, handlers)",
      "4. tryCatchOne(expr, names, parentenv, handlers[[1L]])",
      "5. value[[3L]](cond)",
      "6. stop(msg, call. = FALSE, domain = NA)"
     ]
    }
   ],
   "source": [
    "#Harmonizing data\n",
    "#From Aquasat GitHub\n",
    "#TSS\n",
    "\n",
    "library(readr,lib.loc = \"/nas/cee-water/cjgleason/r-lib/\")\n",
    "library(dplyr,lib.loc = \"/nas/cee-water/cjgleason/r-lib/\")"
   ]
  },
  {
   "cell_type": "code",
   "execution_count": null,
   "id": "hydraulic-natural",
   "metadata": {},
   "outputs": [],
   "source": []
  },
  {
   "cell_type": "code",
   "execution_count": 2,
   "id": "delayed-imaging",
   "metadata": {},
   "outputs": [],
   "source": [
    "#Define a function that renames and reorders columns from the raw files\n",
    "wqp.renamer <- function(df){\n",
    "  simple.names <- df %>%\n",
    "                  dplyr::select(date=ActivityStartDate,\n",
    "                         parameter=CharacteristicName,\n",
    "                         units=ResultMeasure.MeasureUnitCode,\n",
    "                         SiteID=MonitoringLocationIdentifier,\n",
    "                         org=OrganizationFormalName,\n",
    "                         org_id=OrganizationIdentifier,\n",
    "                         time=ActivityStartTime.Time,\n",
    "                         value=ResultMeasureValue,\n",
    "                         sample_method=SampleCollectionMethod.MethodName,\n",
    "                         analytical_method=ResultAnalyticalMethod.MethodName,\n",
    "                         particle_size=ResultParticleSizeBasisText,\n",
    "                         date_time=ActivityStartDateTime,\n",
    "                         media=ActivityMediaName,\n",
    "                         sample_depth=ActivityDepthHeightMeasure.MeasureValue,\n",
    "                         sample_depth_unit=ActivityDepthHeightMeasure.MeasureUnitCode,\n",
    "                         fraction=ResultSampleFractionText,\n",
    "                         status=ResultStatusIdentifier) %>%\n",
    "  #Remove trailing white space in labels\n",
    "  mutate(units = trimws(units)) %>%\n",
    "  #Keep only samples that are water samples\n",
    "  filter(media=='Water')\n",
    "  dropped = nrow(df)-nrow(simple.names)\n",
    "  print(paste('we dropped',dropped,'samples because the sample medium was not labeled as Water'))\n",
    "  return(simple.names)\n",
    "}\n",
    "\n",
    "#Function for making a nice table that gets a summary of units and the number of observations with that unit code\n",
    "unit.kable <- function(d){\n",
    "  d %>%\n",
    "    group_by(units) %>%\n",
    "    summarize(count=n()) %>%\n",
    "    arrange(desc(count)) %>%\n",
    "    kable(.,'html',caption='All  parameter and unit combinations') %>%\n",
    "    kable_styling() %>%\n",
    "    scroll_box(width='500px',height='400px')\n",
    "}\n",
    "\n",
    "unit.disharmony <- function(d,lookup){\n",
    "  d %>%\n",
    "    anti_join(lookup,by='units') %>%\n",
    "    group_by(units) %>%\n",
    "    summarize(count=n())  %>%\n",
    "    kable(.,'html',caption='The following measurements\n",
    "          were dropped because the units do not make sense') %>%\n",
    "    kable_styling() %>%\n",
    "    scroll_box(width='500px',height='400px')\n",
    "}\n",
    "\n",
    "sample.kable <- function(d){\n",
    "d %>%\n",
    "  group_by(sample_method) %>%\n",
    "  summarize(count=n()) %>% \n",
    "  arrange(desc(count)) %>%\n",
    "  kable(.,'html',caption='All sample methods and their count') %>%\n",
    "  kable_styling() %>%\n",
    "  scroll_box(width='600px',height='400px')\n",
    "}\n",
    "\n",
    "analytical.kable <- function(d){\n",
    "  d %>%\n",
    "    group_by(analytical_method) %>%\n",
    "    summarize(count=n()) %>% \n",
    "    arrange(desc(count)) %>%\n",
    "    kable(.,'html',caption='All analytical methods and their count') %>%\n",
    "    kable_styling() %>%\n",
    "    scroll_box(width='600px',height='400px')\n",
    "}"
   ]
  },
  {
   "cell_type": "code",
   "execution_count": 3,
   "id": "optimum-compatibility",
   "metadata": {},
   "outputs": [
    {
     "ename": "ERROR",
     "evalue": "Error in readRDS(\"WQPdata_SNiP_HUC06_tz_full.rds\") %>% wqp.renamer(): could not find function \"%>%\"\n",
     "output_type": "error",
     "traceback": [
      "Error in readRDS(\"WQPdata_SNiP_HUC06_tz_full.rds\") %>% wqp.renamer(): could not find function \"%>%\"\nTraceback:\n"
     ]
    }
   ],
   "source": [
    "#Read in the raw data'\n",
    "tss <- readRDS(\"WQPdata_SNiP_HUC06_tz_full.rds\") %>%\n",
    "  wqp.renamer()"
   ]
  },
  {
   "cell_type": "code",
   "execution_count": 4,
   "id": "conscious-scanning",
   "metadata": {},
   "outputs": [
    {
     "ename": "ERROR",
     "evalue": "Error in scroll_box(., width = \"500px\", height = \"400px\"): could not find function \"scroll_box\"\n",
     "output_type": "error",
     "traceback": [
      "Error in scroll_box(., width = \"500px\", height = \"400px\"): could not find function \"scroll_box\"\nTraceback:\n",
      "1. unit.kable(tss)",
      "2. d %>% group_by(units) %>% summarize(count = n()) %>% arrange(desc(count)) %>% \n .     kable(., \"html\", caption = \"All  parameter and unit combinations\") %>% \n .     kable_styling() %>% scroll_box(width = \"500px\", height = \"400px\")   # at line 32-38 of file <text>"
     ]
    }
   ],
   "source": [
    "#Summarize by characteristic name and unit code\n",
    "unit.kable(tss)"
   ]
  },
  {
   "cell_type": "code",
   "execution_count": 6,
   "id": "possible-fundamentals",
   "metadata": {},
   "outputs": [
    {
     "ename": "ERROR",
     "evalue": "Error in scroll_box(., width = \"600px\", height = \"400px\"): could not find function \"scroll_box\"\n",
     "output_type": "error",
     "traceback": [
      "Error in scroll_box(., width = \"600px\", height = \"400px\"): could not find function \"scroll_box\"\nTraceback:\n",
      "1. analytical.kable(tss)",
      "2. d %>% group_by(analytical_method) %>% summarize(count = n()) %>% \n .     arrange(desc(count)) %>% kable(., \"html\", caption = \"All analytical methods and their count\") %>% \n .     kable_styling() %>% scroll_box(width = \"600px\", height = \"400px\")   # at line 63-69 of file <text>"
     ]
    }
   ],
   "source": [
    "analytical.kable(tss)"
   ]
  },
  {
   "cell_type": "code",
   "execution_count": null,
   "id": "physical-result",
   "metadata": {},
   "outputs": [],
   "source": []
  },
  {
   "cell_type": "code",
   "execution_count": null,
   "id": "emotional-success",
   "metadata": {},
   "outputs": [],
   "source": []
  }
 ],
 "metadata": {
  "kernelspec": {
   "display_name": "R (jupyterhub-stable) *",
   "language": "R",
   "name": "conda-env-jupyterhub-stable-r"
  },
  "language_info": {
   "codemirror_mode": "r",
   "file_extension": ".r",
   "mimetype": "text/x-r-source",
   "name": "R",
   "pygments_lexer": "r",
   "version": "4.1.3"
  }
 },
 "nbformat": 4,
 "nbformat_minor": 5
}
