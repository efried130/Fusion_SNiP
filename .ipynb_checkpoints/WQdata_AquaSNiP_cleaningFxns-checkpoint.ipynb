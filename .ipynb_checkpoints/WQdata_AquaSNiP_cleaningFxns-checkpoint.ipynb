{
 "cells": [
  {
   "cell_type": "code",
   "execution_count": 1,
   "id": "macro-steering",
   "metadata": {},
   "outputs": [
    {
     "name": "stderr",
     "output_type": "stream",
     "text": [
      "\n",
      "Attaching package: ‘dplyr’\n",
      "\n",
      "\n",
      "The following objects are masked from ‘package:stats’:\n",
      "\n",
      "    filter, lag\n",
      "\n",
      "\n",
      "The following objects are masked from ‘package:base’:\n",
      "\n",
      "    intersect, setdiff, setequal, union\n",
      "\n",
      "\n",
      "\n",
      "Attaching package: ‘lubridate’\n",
      "\n",
      "\n",
      "The following objects are masked from ‘package:base’:\n",
      "\n",
      "    date, intersect, setdiff, union\n",
      "\n",
      "\n",
      "Linking to GEOS 3.8.0, GDAL 3.0.4, PROJ 6.3.1; sf_use_s2() is TRUE\n",
      "\n"
     ]
    }
   ],
   "source": [
    "#This code roughly cleans and then examines the temporal data distribution by basin\n",
    "\n",
    "library(tzdb,lib.loc = \"/nas/cee-water/cjgleason/r-lib/\")\n",
    "library(withr,lib.loc = \"/nas/cee-water/cjgleason/r-lib/\")\n",
    "library(readr,lib.loc = \"/nas/cee-water/cjgleason/r-lib/\")\n",
    "library(dplyr,lib.loc = \"/nas/cee-water/cjgleason/r-lib/\")\n",
    "library(ggplot2,lib.loc = \"/nas/cee-water/cjgleason/r-lib/\")\n",
    "library(purrr,lib.loc = \"/nas/cee-water/cjgleason/r-lib/\")\n",
    "library(labeling,lib.loc = \"/nas/cee-water/cjgleason/r-lib/\")\n",
    "library(farver,lib.loc = \"/nas/cee-water/cjgleason/r-lib/\")\n",
    "library(vroom,lib.loc = \"/nas/cee-water/cjgleason/r-lib/\")\n",
    "library(lubridate,lib.loc = \"/nas/cee-water/cjgleason/r-lib/\")\n",
    "library(sf,lib.loc = \"/nas/cee-water/cjgleason/r-lib/\")"
   ]
  },
  {
   "cell_type": "code",
   "execution_count": 2,
   "id": "hispanic-demonstration",
   "metadata": {},
   "outputs": [
    {
     "data": {
      "text/html": [
       "'/nas/cee-water/cjgleason/ellie/SNiP'"
      ],
      "text/latex": [
       "'/nas/cee-water/cjgleason/ellie/SNiP'"
      ],
      "text/markdown": [
       "'/nas/cee-water/cjgleason/ellie/SNiP'"
      ],
      "text/plain": [
       "[1] \"/nas/cee-water/cjgleason/ellie/SNiP\""
      ]
     },
     "metadata": {},
     "output_type": "display_data"
    }
   ],
   "source": [
    "setwd('/nas/cee-water/cjgleason/ellie/SNiP')\n",
    "getwd()"
   ]
  },
  {
   "cell_type": "code",
   "execution_count": 13,
   "id": "senior-possession",
   "metadata": {},
   "outputs": [],
   "source": [
    "##Call WQP Data\n",
    "##MS Basin\n",
    "#df <- HUC05 <- readRDS(\"WQPdata/SNiP_RawData/WQPdataraw_SNiP_HUC05_2.rds\")\n",
    "#df <- HUC06 <- readRDS(\"WQPdata/SNiP_RawData/WQPdataraw_SNiP_HUC06_2.rds\")\n",
    "#df <- HUC07 <- readRDS(\"WQPdata/SNiP_RawData/WQPdata_SNiP_HUC07_3.rds\")\n",
    "#df <- HUC08 <- readRDS(\"WQPdata/SNiP_RawData/WQPdataraw_SNiP_HUC08_2.rds\")\n",
    "#df <- HUC10 <- readRDS(\"WQPdata/SNiP_RawData/WQPdataraw_SNiP_HUC10_2.rds\")\n",
    "#df <- HUC11 <- readRDS(\"WQPdata/SNiP_RawData/WQPdataraw_SNiP_HUC11_2.rds\")\n",
    "\n",
    "#Rest of CONUS\n",
    "df <- HUC01 <- readRDS(\"WQPdata/SNiP_RawData/WQPdataraw_SNiP_HUC01.rds\")\n",
    "#df <- HUC02 <- readRDS(\"WQPdata/SNiP_RawData/WQPdataraw_SNiP_HUC02.rds\")\n",
    "# df <- HUC03 <- readRDS(\"WQPdata/SNiP_RawData/WQPdataraw_SNiP_HUC03.rds\")\n",
    "# df <- HUC04 <- readRDS(\"WQPdata/SNiP_RawData/WQPdataraw_SNiP_HUC04.rds\")\n",
    "# df <- HUC09 <- readRDS(\"WQPdata/SNiP_RawData/WQPdataraw_SNiP_HUC09.rds\")\n",
    "# df <- HUC12 <- readRDS(\"WQPdata/SNiP_RawData/WQPdataraw_SNiP_HUC12.rds\")\n",
    "# df <- HUC13 <- readRDS(\"WQPdata/SNiP_RawData/WQPdataraw_SNiP_HUC13.rds\")\n",
    "# df <- HUC14 <- readRDS(\"WQPdata/SNiP_RawData/WQPdataraw_SNiP_HUC14.rds\")\n",
    "# df <- HUC15 <- readRDS(\"WQPdata/SNiP_RawData/WQPdataraw_SNiP_HUC15.rds\")\n",
    "# df <- HUC16 <- readRDS(\"WQPdata/SNiP_RawData/WQPdataraw_SNiP_HUC16.rds\")\n",
    "# df <- HUC17 <- readRDS(\"WQPdata/SNiP_RawData/WQPdataraw_SNiP_HUC17.rds\")\n",
    "# df <- HUC18 <- readRDS(\"WQPdata/SNiP_RawData/WQPdataraw_SNiP_HUC18.rds\")\n",
    "# df <- HUC19 <- readRDS(\"WQPdata/SNiP_RawData/WQPdataraw_SNiP_HUC19.rds\")\n",
    "# df <- HUC20 <- readRDS(\"WQPdata/SNiP_RawData/WQPdataraw_SNiP_HUC20.rds\")\n",
    "# df <- HUC21 <- readRDS(\"WQPdata/SNiP_RawData/WQPdataraw_SNiP_HUC21.rds\")"
   ]
  },
  {
   "cell_type": "code",
   "execution_count": 14,
   "id": "german-tension",
   "metadata": {},
   "outputs": [
    {
     "data": {
      "text/html": [
       "<style>\n",
       ".list-inline {list-style: none; margin:0; padding: 0}\n",
       ".list-inline>li {display: inline-block}\n",
       ".list-inline>li:not(:last-child)::after {content: \"\\00b7\"; padding: 0 .5ex}\n",
       "</style>\n",
       "<ol class=list-inline><li>'OrganizationIdentifier'</li><li>'OrganizationFormalName'</li><li>'ActivityDepthHeightMeasure.MeasureValue'</li><li>'ActivityDepthHeightMeasure.MeasureUnitCode'</li><li>'ActivityIdentifier'</li><li>'ActivityMediaName'</li><li>'ActivityStartDate'</li><li>'ActivityStartDateTime'</li><li>'ActivityStartTime.Time'</li><li>'ActivityStartTime.TimeZoneCode'</li><li>'MonitoringLocationIdentifier'</li><li>'HydrologicCondition'</li><li>'HydrologicEvent'</li><li>'CharacteristicName'</li><li>'ResultAnalyticalMethod.MethodName'</li><li>'ResultParticleSizeBasisText'</li><li>'ResultSampleFractionText'</li><li>'ResultMeasureValue'</li><li>'ResultMeasure.MeasureUnitCode'</li><li>'ResultStatusIdentifier'</li><li>'SampleCollectionMethod.MethodName'</li><li>'USGSPCode'</li><li>'resultCount'</li><li>'siteUrl'</li><li>'StateName'</li><li>'CountyName'</li><li>'HUCEightDigitCode'</li><li>'DrainageAreaMeasure.MeasureValue'</li><li>'DrainageAreaMeasure.MeasureUnitCode'</li><li>'ContributingDrainageAreaMeasure.MeasureValue'</li><li>'ContributingDrainageAreaMeasure.MeasureUnitCode'</li><li>'VerticalMeasure.MeasureValue'</li><li>'VerticalMeasure.MeasureUnitCode'</li><li>'VerticalAccuracyMeasure.MeasureValue'</li><li>'VerticalAccuracyMeasure.MeasureUnitCode'</li><li>'VerticalCollectionMethodName'</li><li>'LatitudeMeasure'</li><li>'LongitudeMeasure'</li><li>'HorizontalCoordinateReferenceSystemDatumName'</li></ol>\n"
      ],
      "text/latex": [
       "\\begin{enumerate*}\n",
       "\\item 'OrganizationIdentifier'\n",
       "\\item 'OrganizationFormalName'\n",
       "\\item 'ActivityDepthHeightMeasure.MeasureValue'\n",
       "\\item 'ActivityDepthHeightMeasure.MeasureUnitCode'\n",
       "\\item 'ActivityIdentifier'\n",
       "\\item 'ActivityMediaName'\n",
       "\\item 'ActivityStartDate'\n",
       "\\item 'ActivityStartDateTime'\n",
       "\\item 'ActivityStartTime.Time'\n",
       "\\item 'ActivityStartTime.TimeZoneCode'\n",
       "\\item 'MonitoringLocationIdentifier'\n",
       "\\item 'HydrologicCondition'\n",
       "\\item 'HydrologicEvent'\n",
       "\\item 'CharacteristicName'\n",
       "\\item 'ResultAnalyticalMethod.MethodName'\n",
       "\\item 'ResultParticleSizeBasisText'\n",
       "\\item 'ResultSampleFractionText'\n",
       "\\item 'ResultMeasureValue'\n",
       "\\item 'ResultMeasure.MeasureUnitCode'\n",
       "\\item 'ResultStatusIdentifier'\n",
       "\\item 'SampleCollectionMethod.MethodName'\n",
       "\\item 'USGSPCode'\n",
       "\\item 'resultCount'\n",
       "\\item 'siteUrl'\n",
       "\\item 'StateName'\n",
       "\\item 'CountyName'\n",
       "\\item 'HUCEightDigitCode'\n",
       "\\item 'DrainageAreaMeasure.MeasureValue'\n",
       "\\item 'DrainageAreaMeasure.MeasureUnitCode'\n",
       "\\item 'ContributingDrainageAreaMeasure.MeasureValue'\n",
       "\\item 'ContributingDrainageAreaMeasure.MeasureUnitCode'\n",
       "\\item 'VerticalMeasure.MeasureValue'\n",
       "\\item 'VerticalMeasure.MeasureUnitCode'\n",
       "\\item 'VerticalAccuracyMeasure.MeasureValue'\n",
       "\\item 'VerticalAccuracyMeasure.MeasureUnitCode'\n",
       "\\item 'VerticalCollectionMethodName'\n",
       "\\item 'LatitudeMeasure'\n",
       "\\item 'LongitudeMeasure'\n",
       "\\item 'HorizontalCoordinateReferenceSystemDatumName'\n",
       "\\end{enumerate*}\n"
      ],
      "text/markdown": [
       "1. 'OrganizationIdentifier'\n",
       "2. 'OrganizationFormalName'\n",
       "3. 'ActivityDepthHeightMeasure.MeasureValue'\n",
       "4. 'ActivityDepthHeightMeasure.MeasureUnitCode'\n",
       "5. 'ActivityIdentifier'\n",
       "6. 'ActivityMediaName'\n",
       "7. 'ActivityStartDate'\n",
       "8. 'ActivityStartDateTime'\n",
       "9. 'ActivityStartTime.Time'\n",
       "10. 'ActivityStartTime.TimeZoneCode'\n",
       "11. 'MonitoringLocationIdentifier'\n",
       "12. 'HydrologicCondition'\n",
       "13. 'HydrologicEvent'\n",
       "14. 'CharacteristicName'\n",
       "15. 'ResultAnalyticalMethod.MethodName'\n",
       "16. 'ResultParticleSizeBasisText'\n",
       "17. 'ResultSampleFractionText'\n",
       "18. 'ResultMeasureValue'\n",
       "19. 'ResultMeasure.MeasureUnitCode'\n",
       "20. 'ResultStatusIdentifier'\n",
       "21. 'SampleCollectionMethod.MethodName'\n",
       "22. 'USGSPCode'\n",
       "23. 'resultCount'\n",
       "24. 'siteUrl'\n",
       "25. 'StateName'\n",
       "26. 'CountyName'\n",
       "27. 'HUCEightDigitCode'\n",
       "28. 'DrainageAreaMeasure.MeasureValue'\n",
       "29. 'DrainageAreaMeasure.MeasureUnitCode'\n",
       "30. 'ContributingDrainageAreaMeasure.MeasureValue'\n",
       "31. 'ContributingDrainageAreaMeasure.MeasureUnitCode'\n",
       "32. 'VerticalMeasure.MeasureValue'\n",
       "33. 'VerticalMeasure.MeasureUnitCode'\n",
       "34. 'VerticalAccuracyMeasure.MeasureValue'\n",
       "35. 'VerticalAccuracyMeasure.MeasureUnitCode'\n",
       "36. 'VerticalCollectionMethodName'\n",
       "37. 'LatitudeMeasure'\n",
       "38. 'LongitudeMeasure'\n",
       "39. 'HorizontalCoordinateReferenceSystemDatumName'\n",
       "\n",
       "\n"
      ],
      "text/plain": [
       " [1] \"OrganizationIdentifier\"                         \n",
       " [2] \"OrganizationFormalName\"                         \n",
       " [3] \"ActivityDepthHeightMeasure.MeasureValue\"        \n",
       " [4] \"ActivityDepthHeightMeasure.MeasureUnitCode\"     \n",
       " [5] \"ActivityIdentifier\"                             \n",
       " [6] \"ActivityMediaName\"                              \n",
       " [7] \"ActivityStartDate\"                              \n",
       " [8] \"ActivityStartDateTime\"                          \n",
       " [9] \"ActivityStartTime.Time\"                         \n",
       "[10] \"ActivityStartTime.TimeZoneCode\"                 \n",
       "[11] \"MonitoringLocationIdentifier\"                   \n",
       "[12] \"HydrologicCondition\"                            \n",
       "[13] \"HydrologicEvent\"                                \n",
       "[14] \"CharacteristicName\"                             \n",
       "[15] \"ResultAnalyticalMethod.MethodName\"              \n",
       "[16] \"ResultParticleSizeBasisText\"                    \n",
       "[17] \"ResultSampleFractionText\"                       \n",
       "[18] \"ResultMeasureValue\"                             \n",
       "[19] \"ResultMeasure.MeasureUnitCode\"                  \n",
       "[20] \"ResultStatusIdentifier\"                         \n",
       "[21] \"SampleCollectionMethod.MethodName\"              \n",
       "[22] \"USGSPCode\"                                      \n",
       "[23] \"resultCount\"                                    \n",
       "[24] \"siteUrl\"                                        \n",
       "[25] \"StateName\"                                      \n",
       "[26] \"CountyName\"                                     \n",
       "[27] \"HUCEightDigitCode\"                              \n",
       "[28] \"DrainageAreaMeasure.MeasureValue\"               \n",
       "[29] \"DrainageAreaMeasure.MeasureUnitCode\"            \n",
       "[30] \"ContributingDrainageAreaMeasure.MeasureValue\"   \n",
       "[31] \"ContributingDrainageAreaMeasure.MeasureUnitCode\"\n",
       "[32] \"VerticalMeasure.MeasureValue\"                   \n",
       "[33] \"VerticalMeasure.MeasureUnitCode\"                \n",
       "[34] \"VerticalAccuracyMeasure.MeasureValue\"           \n",
       "[35] \"VerticalAccuracyMeasure.MeasureUnitCode\"        \n",
       "[36] \"VerticalCollectionMethodName\"                   \n",
       "[37] \"LatitudeMeasure\"                                \n",
       "[38] \"LongitudeMeasure\"                               \n",
       "[39] \"HorizontalCoordinateReferenceSystemDatumName\"   "
      ]
     },
     "metadata": {},
     "output_type": "display_data"
    }
   ],
   "source": [
    "names(df)"
   ]
  },
  {
   "cell_type": "code",
   "execution_count": 15,
   "id": "administrative-finder",
   "metadata": {},
   "outputs": [],
   "source": [
    "#Call aquasat stream data\n",
    "aquastream <- readRDS(\"Aquasat/AquasatStream.rds\")"
   ]
  },
  {
   "cell_type": "code",
   "execution_count": 11,
   "id": "indoor-metropolitan",
   "metadata": {
    "tags": []
   },
   "outputs": [],
   "source": [
    "#Select and ROUGHLY adapt to same Characteristic Names and parameters as Aquasat\n",
    "#Went ahead and removed na values that Ross et al 2019 has sprinkled throughout his code.\n",
    "#MUST REFINE FOR ALL (especially N and P)\n",
    "wqp.renamer <- function(df){\n",
    "  #TSS_forms <- c(\"Total suspended solids\", \"Suspended Sediment Concentration (SSC)\", \"Suspended sediment Concentration (SSC)\", \"Fixed Suspended solids\")\n",
    "  simple.names <- df %>%\n",
    "    dplyr::select(date=ActivityStartDate,\n",
    "                  parameter=CharacteristicName,\n",
    "                  units=ResultMeasure.MeasureUnitCode,\n",
    "                  SiteID=MonitoringLocationIdentifier,\n",
    "                  org=OrganizationFormalName,\n",
    "                  org_id=OrganizationIdentifier,\n",
    "                  time=ActivityStartTime.Time,\n",
    "                  value=ResultMeasureValue,\n",
    "                  sample_method=SampleCollectionMethod.MethodName,\n",
    "                  analytical_method=ResultAnalyticalMethod.MethodName,\n",
    "                  particle_size=ResultParticleSizeBasisText,\n",
    "                  date_time=ActivityStartDateTime,\n",
    "                  media=ActivityMediaName,\n",
    "                  sample_depth=ActivityDepthHeightMeasure.MeasureValue,\n",
    "                  sample_depth_unit=ActivityDepthHeightMeasure.MeasureUnitCode,\n",
    "                  fraction=ResultSampleFractionText,\n",
    "                  status=ResultStatusIdentifier,\n",
    "                  lat=LatitudeMeasure,\n",
    "                  long=LongitudeMeasure,\n",
    "                  datum=HorizontalCoordinateReferenceSystemDatumName) %>%\n",
    "    #Remove trailing white space in labels\n",
    "    mutate(units = trimws(units)) %>%\n",
    "    #filter(parameter %in% TSS_forms) %>%\n",
    "    filter(media=='Water') %>% #Must be in a river or stream\n",
    "    filter(value > 0.01) %>% #Must be somewhat detectable\n",
    "    filter(value < 100000) %>% #Must be reasonable\n",
    "    filter(!is.na(value)) %>% #Must exist\n",
    "    filter(!is.na(date)) %>%\n",
    "    filter(!is.na(lat)) %>% #Exclude sites with missing geospatial data\n",
    "    filter(!is.na(long)) %>%\n",
    "    distinct(SiteID,value, date, .keep_all = TRUE) #Remove duplicates - rough - did not average between multiples at same site/time\n",
    "  dropped = nrow(df)-nrow(simple.names)\n",
    "  print(paste('we dropped',dropped,'samples'))\n",
    "  print(nrow(simple.names))\n",
    "  return(simple.names)\n",
    "}"
   ]
  },
  {
   "cell_type": "code",
   "execution_count": 16,
   "id": "rotary-paste",
   "metadata": {
    "tags": []
   },
   "outputs": [],
   "source": [
    "#For TSS Only\n",
    "#Has some extra column names\n",
    "wqp.tss.renamer <- function(df){\n",
    "  TSS_forms <- c(\"Total suspended solids\", \"Suspended Sediment Concentration (SSC)\", \"Suspended sediment Concentration (SSC)\", \"Fixed Suspended solids\")\n",
    "  simple.names <- df %>%\n",
    "    dplyr::select(date=ActivityStartDate,\n",
    "                  parameter=CharacteristicName,\n",
    "                  units=ResultMeasure.MeasureUnitCode,\n",
    "                  SiteID=MonitoringLocationIdentifier,\n",
    "                  org=OrganizationFormalName,\n",
    "                  org_id=OrganizationIdentifier,\n",
    "                  time=ActivityStartTime.Time,\n",
    "                  value=ResultMeasureValue,\n",
    "                  sample_method=SampleCollectionMethod.MethodName,\n",
    "                  analytical_method=ResultAnalyticalMethod.MethodName,\n",
    "                  particle_size=ResultParticleSizeBasisText,\n",
    "                  date_time=ActivityStartDateTime,\n",
    "                  media=ActivityMediaName,\n",
    "                  sample_depth=ActivityDepthHeightMeasure.MeasureValue,\n",
    "                  sample_depth_unit=ActivityDepthHeightMeasure.MeasureUnitCode,\n",
    "                  fraction=ResultSampleFractionText,\n",
    "                  status=ResultStatusIdentifier,\n",
    "                  lat=LatitudeMeasure,\n",
    "                  long=LongitudeMeasure,\n",
    "                  datum=HorizontalCoordinateReferenceSystemDatumName,\n",
    "                  huc=HUCEightDigitCode,\n",
    "                  condition=HydrologicCondition,\n",
    "                  event=HydrologicEvent) %>%\n",
    "    mutate(units = trimws(units)) %>% #Remove trailing white space in labels\n",
    "    filter(parameter %in% TSS_forms) %>%\n",
    "    filter(media=='Water') %>% #Must be in a river or stream\n",
    "    filter(value > 0.01) %>% #Must be somewhat detectable\n",
    "    filter(value < 100000) %>% #Must be reasonable\n",
    "    filter(!is.na(value)) %>% #Must exist\n",
    "    filter(!is.na(date)) %>%\n",
    "    filter(!is.na(lat)) %>% #Exclude sites with missing geospatial data\n",
    "    filter(!is.na(long)) %>%\n",
    "    distinct(SiteID,value, date, .keep_all = TRUE) #Remove duplicates - rough - did not average between multiples at same site/time\n",
    "  dropped = nrow(df)-nrow(simple.names)\n",
    "  print(paste('we dropped',dropped,'samples'))\n",
    "  print(nrow(simple.names))\n",
    "  return(simple.names)\n",
    "}\n",
    "\n",
    "#HUC06_tss <- HUC06 %>% wqp.renamer()\n",
    "#nrow(HUC06_tss)"
   ]
  },
  {
   "cell_type": "code",
   "execution_count": 7,
   "id": "aerial-parks",
   "metadata": {
    "tags": []
   },
   "outputs": [],
   "source": [
    "#If we want N or P espeically:\n",
    "wqp.P.renamer <- function(df){\n",
    "  P_forms <- c(\"Phosphorus\", \"Phosphorus as P\", \"Orthophosphate\", \"Orthophosphate as P\", \"Orthophosphate as PO4\", \"Ortho-Phosphate-Phosphorus\" )\n",
    "  simple.names <- df %>%\n",
    "    dplyr::select(date=ActivityStartDate,\n",
    "                  parameter=CharacteristicName,\n",
    "                  units=ResultMeasure.MeasureUnitCode,\n",
    "                  SiteID=MonitoringLocationIdentifier,\n",
    "                  org=OrganizationFormalName,\n",
    "                  org_id=OrganizationIdentifier,\n",
    "                  time=ActivityStartTime.Time,\n",
    "                  value=ResultMeasureValue,\n",
    "                  sample_method=SampleCollectionMethod.MethodName,\n",
    "                  analytical_method=ResultAnalyticalMethod.MethodName,\n",
    "                  particle_size=ResultParticleSizeBasisText,\n",
    "                  date_time=ActivityStartDateTime,\n",
    "                  media=ActivityMediaName,\n",
    "                  sample_depth=ActivityDepthHeightMeasure.MeasureValue,\n",
    "                  sample_depth_unit=ActivityDepthHeightMeasure.MeasureUnitCode,\n",
    "                  fraction=ResultSampleFractionText,\n",
    "                  status=ResultStatusIdentifier,\n",
    "                  lat=LatitudeMeasure,\n",
    "                  long=LongitudeMeasure,\n",
    "                  datum=HorizontalCoordinateReferenceSystemDatumName) %>%\n",
    "    #Remove trailing white space in labels\n",
    "    mutate(units = trimws(units)) %>%\n",
    "    filter(parameter %in% P_forms) %>%\n",
    "    filter(media=='Water') %>% #Must be in a river or stream\n",
    "    filter(value > 0.01) %>% #Must be somewhat detectable\n",
    "    filter(value < 100000) %>% #Must be reasonable\n",
    "    filter(!is.na(value)) %>% #Must exist\n",
    "    filter(!is.na(date)) %>%\n",
    "    filter(!is.na(lat)) %>% #Exclude sites with missing geospatial data\n",
    "    filter(!is.na(long)) %>%\n",
    "    distinct(SiteID,value, date, .keep_all = TRUE) #Remove duplicates - rough - did not average between multiples at same site/time\n",
    "  dropped = nrow(df)-nrow(simple.names)\n",
    "  print(paste('we dropped',dropped,'samples'))\n",
    "  print(nrow(simple.names))\n",
    "  return(simple.names)\n",
    "}\n",
    "\n",
    "#HUC06_P <- HUC06 %>% wqp.P.renamer()\n",
    "#nrow(HUC06_P)\n",
    "\n"
   ]
  },
  {
   "cell_type": "code",
   "execution_count": null,
   "id": "listed-young",
   "metadata": {},
   "outputs": [],
   "source": []
  },
  {
   "cell_type": "code",
   "execution_count": 8,
   "id": "fantastic-letters",
   "metadata": {
    "tags": []
   },
   "outputs": [],
   "source": [
    "#Select N measurements only\n",
    "wqp.N.renamer <- function(df){\n",
    "  N_forms <- c(\"Nitrogen\",\"Nitrate\", \"Inorganic nitrogen (nitrate and nitrite)\", \"Inorganic nitrogen (nitrate and nitrite) as N\", \"Nitrate as N\", \"Nitrate-N\", \"Nitrate-nitrogen\", \"Nitrate-Nitrogen\", \"Total Particulate Nitrogen\", \"Total Nitrogen, mixed forms\")\n",
    "  simple.names <- df %>%\n",
    "    dplyr::select(date=ActivityStartDate,\n",
    "                  parameter=CharacteristicName,\n",
    "                  units=ResultMeasure.MeasureUnitCode,\n",
    "                  SiteID=MonitoringLocationIdentifier,\n",
    "                  org=OrganizationFormalName,\n",
    "                  org_id=OrganizationIdentifier,\n",
    "                  time=ActivityStartTime.Time,\n",
    "                  value=ResultMeasureValue,\n",
    "                  sample_method=SampleCollectionMethod.MethodName,\n",
    "                  analytical_method=ResultAnalyticalMethod.MethodName,\n",
    "                  particle_size=ResultParticleSizeBasisText,\n",
    "                  date_time=ActivityStartDateTime,\n",
    "                  media=ActivityMediaName,\n",
    "                  sample_depth=ActivityDepthHeightMeasure.MeasureValue,\n",
    "                  sample_depth_unit=ActivityDepthHeightMeasure.MeasureUnitCode,\n",
    "                  fraction=ResultSampleFractionText,\n",
    "                  status=ResultStatusIdentifier,\n",
    "                  lat=LatitudeMeasure,\n",
    "                  long=LongitudeMeasure,\n",
    "                  datum=HorizontalCoordinateReferenceSystemDatumName) %>%\n",
    "    #Remove trailing white space in labels\n",
    "    mutate(units = trimws(units)) %>%\n",
    "    filter(parameter %in% N_forms) %>%\n",
    "    filter(media=='Water') %>% #Must be in a river or stream\n",
    "    filter(value > 0.01) %>% #Must be somewhat detectable\n",
    "    filter(value < 100000) %>% #Must be reasonable\n",
    "    filter(!is.na(value)) %>% #Must exist\n",
    "    filter(!is.na(date)) %>%\n",
    "    filter(!is.na(lat)) %>% #Exclude sites with missing geospatial data\n",
    "    filter(!is.na(long)) %>%\n",
    "    distinct(SiteID,value, date, .keep_all = TRUE) #Remove duplicates - rough - did not average between multiples at same site/time\n",
    "  dropped = nrow(df)-nrow(simple.names)\n",
    "  print(paste('we dropped',dropped,'samples'))\n",
    "  print(nrow(simple.names))\n",
    "  return(simple.names)\n",
    "}\n",
    "\n",
    "#HUC06_N <- HUC06 %>% wqp.N.renamer()\n",
    "#nrow(HUC06_N)"
   ]
  },
  {
   "cell_type": "code",
   "execution_count": 17,
   "id": "uniform-toddler",
   "metadata": {
    "tags": []
   },
   "outputs": [],
   "source": [
    "#Function for nonsensical methods for TSS\n",
    "\n",
    "nonsense.methods.fxn <- function(df){\n",
    "#There are a lot of parameter codes so we are just going to use a grepl command with key words that definitely disqualify the sample\n",
    "    non.sensical.tss.methods <- df %>%\n",
    "      filter(grepl(\"Oxygen|Nitrogen|Ammonia|Metals|E. coli|Carbon|Anion|Cation|Phosphorus|Silica|PH|HARDNESS|Nutrient|Turbidity|Temperature|Nitrate|Conductance|Alkalinity|Chlorophyll\",analytical_method,ignore.case=T))\n",
    "\n",
    "\n",
    "    tss.filtered.method <- df %>%\n",
    "      filter(!analytical_method %in% non.sensical.tss.methods$analytical_method)\n",
    "\n",
    "    print(paste('We dropped', round(nrow(non.sensical.tss.methods)/nrow(df)*100,2),'% of samples, because the method used did not make sense. These methods are:'))\n",
    "    print(unique(non.sensical.tss.methods$analytical_method),wrap='',sep=' - ') #Nice function for printing long vectors horizontally separated by dash\n",
    "    return(tss.filtered.method)\n",
    "}"
   ]
  },
  {
   "cell_type": "code",
   "execution_count": 49,
   "id": "rational-arrangement",
   "metadata": {
    "tags": []
   },
   "outputs": [],
   "source": [
    "#Function to filter and synchronize units for TSS\n",
    "\n",
    "unit.harmony.fxn <- function(df){\n",
    "    #Select only units for % and filter to keep only the sand fraction data ('< 0.0625 mm','sands')\n",
    "    tss.p <- df %>%\n",
    "        filter(units =='%' & (particle_size %in%  c('< 0.0625 mm','sands'))) %>%\n",
    "        mutate(conversion=NA,\n",
    "          harmonized_parameter='p.sand',\n",
    "          harmonized_value=value,\n",
    "          harmonized_unit='%')\n",
    "        \n",
    "\n",
    "    #Make a tss lookup table\n",
    "    tss.lookup <- tibble(units=c('mg/l','g/l','ug/l','ppm'),\n",
    "                        conversion = c(1,1000,1/1000,1))\n",
    "\n",
    "    #Join to the lookup table and harmonize units\n",
    "\n",
    "    tss.harmonized <- df %>%\n",
    "      inner_join(tss.lookup,by='units') %>%\n",
    "      mutate(harmonized_parameter = 'tss',\n",
    "         harmonized_value=as.numeric(value) * as.numeric(conversion),\n",
    "         harmonized_unit='mg/l') \n",
    "    tss.harmonized.p <- rbind(tss.p, tss.harmonized)   \n",
    "    dropped = nrow(df)-nrow(tss.harmonized.p)\n",
    "    print(paste('we dropped',dropped,'samples with unknown/unusable units'))\n",
    "    print(nrow(tss.harmonized.p))\n",
    "    return(tss.harmonized.p)\n",
    "}"
   ]
  },
  {
   "cell_type": "code",
   "execution_count": 19,
   "id": "clinical-charles",
   "metadata": {
    "tags": []
   },
   "outputs": [],
   "source": [
    "#Function for date and time \n",
    "#Need to add date and time splitter later\n",
    "date.format.fxn <- function(df){\n",
    "    date.format <- df %>% \n",
    "        dplyr::mutate(time = as.character(format(date_time, '%H:%M:%S'))) %>%\n",
    "        dplyr::mutate(date = as.character(date)) %>%\n",
    "        dplyr::mutate(date_only= as.character(ifelse(is.na(date_time) | time == '00:00:00',T,F))) %>%\n",
    "        dplyr::mutate(date_unity = as.character(ymd_hms(ifelse(date_only == T,\n",
    "                             paste(date,'00:00:00'),\n",
    "                             as.character(date_time)),\n",
    "                             tz='UTC'))) %>%\n",
    "        #remove any time stamps that are NA\n",
    "        dplyr::filter(!is.na(date_unity))\n",
    "    return(date.format)\n",
    "}"
   ]
  },
  {
   "cell_type": "code",
   "execution_count": 20,
   "id": "unlikely-factor",
   "metadata": {
    "tags": []
   },
   "outputs": [],
   "source": [
    "#Function for datum\n",
    "#From Aquasat:\n",
    "#Setup a datum table to transform different datums into WGS84 for GEE and to \n",
    "#match LAGOS. Note that we make the somewhat reisky decision that others and unknowns\n",
    "# are mostly NAD83 (since > 60% of the data is originally in that projection)\n",
    "datum.format.fxn <- function(df){\n",
    "    print(table(df$datum)) #Alter function if needed to account for misc. datum\n",
    "    datum_epsg <- tibble(datum=c('NAD27','NAD83','OTHER','UNKWN','WGS84'),\n",
    "                     epsg=c(4267,4269,4269,4269,4326))\n",
    "\n",
    "    # Get distinct lat longs and sites\n",
    "    inv_uniques <- df %>%\n",
    "      distinct(SiteID,lat,long,datum)\n",
    "\n",
    "    ## project inventory using the above lookup table\n",
    "    ## Have to loop over each projection\n",
    "    projected <- list() \n",
    "\n",
    "    for(i in 1:nrow(datum_epsg)){\n",
    "      #Select each datum iteratively\n",
    "      d1 <- datum_epsg[i,]\n",
    "      # Join inventory to that datum only and then feed it that CRS and then \n",
    "      # transform to wgs84\n",
    "      inv_reproj <- inv_uniques %>%\n",
    "        filter(datum == d1$datum) %>%\n",
    "        inner_join(d1, by='datum') %>%\n",
    "        st_as_sf(.,coords=c('long','lat'),crs=d1$epsg) %>%\n",
    "        st_transform(4326)\n",
    "\n",
    "      projected[[i]] <- inv_reproj\n",
    "    }\n",
    "\n",
    "    # Note that we lose some sites in GUAM which is intentional\n",
    "    # Add back in lat longs which are all WGS84 now\n",
    "    inv_wgs84 <- do.call('rbind',projected) %>%\n",
    "      mutate(lat = st_coordinates(.)[,2],\n",
    "             long=st_coordinates(.)[,1]) %>%\n",
    "      as.data.frame(.) %>%\n",
    "      select(-geometry,-datum) \n",
    "    print(names(inv_wgs84))\n",
    "    \n",
    "    \n",
    "    #Put back together\n",
    "    df <- inner_join(df, inv_wgs84, by = 'SiteID')\n",
    "    return(df)\n",
    "    }"
   ]
  },
  {
   "cell_type": "code",
   "execution_count": 21,
   "id": "subjective-services",
   "metadata": {
    "tags": []
   },
   "outputs": [],
   "source": [
    "#Function to join aquasast and basin for Landsat ID and reflectances\n",
    "SNiP.Aquasat.join.fxn <- function(df){\n",
    "    df_slim <- df %>%\n",
    "    dplyr::select(-lat.x, -long.x) %>%\n",
    "    dplyr::rename(lat = lat.y, long=long.y) %>%\n",
    "    dplyr::select(parameter, units, SiteID, lat, long, datum, value, particle_size, date, time, date_time)\n",
    " \n",
    "    df_final <- inner_join(df_slim, aquastream, by = c(\"lat\" =\"lat\", \"long\" = \"long\", \"date\" = \"date\"))\n",
    "    return(df_final)\n",
    "    }\n"
   ]
  },
  {
   "cell_type": "code",
   "execution_count": 50,
   "id": "virtual-insert",
   "metadata": {},
   "outputs": [
    {
     "name": "stdout",
     "output_type": "stream",
     "text": [
      "[1] \"we dropped 268921 samples\"\n",
      "[1] 5273\n",
      "[1] \"We dropped 0.04 % of samples, because the method used did not make sense. These methods are:\"\n",
      "[1] \"Dissolved Oxygen by Winkler Technique\"\n",
      "[1] \"we dropped 179 samples with unknown/unusable units\"\n",
      "[1] 5092\n"
     ]
    },
    {
     "ename": "ERROR",
     "evalue": "Error: Problem with `mutate()` input `time`.\n\u001b[31m✖\u001b[39m invalid 'trim' argument\n\u001b[34mℹ\u001b[39m Input `time` is `as.character(format(date_time, \"%H:%M:%S\"))`.\n",
     "output_type": "error",
     "traceback": [
      "Error: Problem with `mutate()` input `time`.\n\u001b[31m✖\u001b[39m invalid 'trim' argument\n\u001b[34mℹ\u001b[39m Input `time` is `as.character(format(date_time, \"%H:%M:%S\"))`.\nTraceback:\n",
      "1. df %>% wqp.tss.renamer() %>% nonsense.methods.fxn() %>% unit.harmony.fxn() %>% \n .     date.format.fxn() %>% datum.format.fxn()",
      "2. datum.format.fxn(.)",
      "3. print(table(df$datum))   # at line 7 of file <text>",
      "4. table(df$datum)   # at line 7 of file <text>",
      "5. date.format.fxn(.)   # at line 7 of file <text>",
      "6. df %>% dplyr::mutate(time = as.character(format(date_time, \"%H:%M:%S\"))) %>% \n .     dplyr::mutate(date = as.character(date)) %>% dplyr::mutate(date_only = as.character(ifelse(is.na(date_time) | \n .     time == \"00:00:00\", T, F))) %>% dplyr::mutate(date_unity = as.character(ymd_hms(ifelse(date_only == \n .     T, paste(date, \"00:00:00\"), as.character(date_time)), tz = \"UTC\"))) %>% \n .     dplyr::filter(!is.na(date_unity))   # at line 4-13 of file <text>",
      "7. dplyr::filter(., !is.na(date_unity))",
      "8. dplyr::mutate(., date_unity = as.character(ymd_hms(ifelse(date_only == \n .     T, paste(date, \"00:00:00\"), as.character(date_time)), tz = \"UTC\")))",
      "9. dplyr::mutate(., date_only = as.character(ifelse(is.na(date_time) | \n .     time == \"00:00:00\", T, F)))",
      "10. dplyr::mutate(., date = as.character(date))",
      "11. dplyr::mutate(., time = as.character(format(date_time, \"%H:%M:%S\")))",
      "12. mutate.data.frame(., time = as.character(format(date_time, \"%H:%M:%S\")))",
      "13. mutate_cols(.data, ...)",
      "14. withCallingHandlers({\n  .     for (i in seq_along(dots)) {\n  .         mask$across_cache_reset()\n  .         quosures <- expand_quosure(dots[[i]])\n  .         for (k in seq_along(quosures)) {\n  .             quo <- quosures[[k]]\n  .             quo_data <- attr(quo, \"dplyr:::data\")\n  .             context_poke(\"column\", quo_data$column)\n  .             chunks <- NULL\n  .             result <- NULL\n  .             if (quo_is_symbol(quo)) {\n  .                 name <- as_string(quo_get_expr(quo))\n  .                 if (name %in% names(new_columns)) {\n  .                   result <- new_columns[[name]]\n  .                   chunks <- mask$resolve(name)\n  .                 }\n  .                 else if (name %in% names(.data)) {\n  .                   result <- .data[[name]]\n  .                   chunks <- mask$resolve(name)\n  .                 }\n  .                 if (inherits(.data, \"rowwise_df\") && vec_is_list(result)) {\n  .                   sizes <- list_sizes(result)\n  .                   wrong <- which(sizes != 1)\n  .                   if (length(wrong)) {\n  .                     group <- wrong[1L]\n  .                     mask$set_current_group(group)\n  .                     abort(x_size = sizes[group], class = \"dplyr:::mutate_incompatible_size\")\n  .                   }\n  .                 }\n  .             }\n  .             if (is.null(chunks)) {\n  .                 chunks <- mask$eval_all_mutate(quo)\n  .             }\n  .             if (is.null(chunks)) {\n  .                 if (quo_data$is_named) {\n  .                   name <- quo_data$name_given\n  .                   new_columns[[name]] <- zap()\n  .                   mask$remove(name)\n  .                 }\n  .                 next\n  .             }\n  .             if (is.null(result)) {\n  .                 if (length(rows) == 1) {\n  .                   result <- chunks[[1]]\n  .                 }\n  .                 else {\n  .                   result <- withCallingHandlers(vec_unchop(chunks <- vec_cast_common(!!!chunks), \n  .                     rows), vctrs_error_incompatible_type = function(cnd) {\n  .                     abort(class = \"dplyr:::error_mutate_incompatible_combine\", \n  .                       parent = cnd)\n  .                   })\n  .                 }\n  .             }\n  .             if (!quo_data$is_named && is.data.frame(result)) {\n  .                 new_columns[names(result)] <- result\n  .                 mask$add_many(result, chunks)\n  .             }\n  .             else {\n  .                 name <- quo_data$name_auto\n  .                 new_columns[[name]] <- result\n  .                 mask$add_one(name, chunks)\n  .             }\n  .         }\n  .     }\n  . }, error = function(e) {\n  .     local_call_step(dots = dots, .index = i, .fn = \"mutate\", \n  .         .dot_data = inherits(e, \"rlang_error_data_pronoun_not_found\"))\n  .     call_step_envir <- peek_call_step()\n  .     error_name <- call_step_envir$error_name\n  .     error_expression <- call_step_envir$error_expression\n  .     show_group_details <- TRUE\n  .     if (inherits(e, \"dplyr:::mutate_incompatible_size\")) {\n  .         size <- vec_size(rows[[mask$get_current_group()]])\n  .         x_size <- e$x_size\n  .         bullets <- c(x = glue(\"Input `{error_name}` can't be recycled to size {size}.\"), \n  .             i = cnd_bullet_input_info(), i = glue(\"Input `{error_name}` must be size {or_1(size)}, not {x_size}.\"), \n  .             i = cnd_bullet_rowwise_unlist())\n  .     }\n  .     else if (inherits(e, \"dplyr:::mutate_mixed_null\")) {\n  .         show_group_details <- FALSE\n  .         bullets <- c(x = glue(\"`{error_name}` must return compatible vectors across groups.\"), \n  .             i = cnd_bullet_input_info(), i = \"Cannot combine NULL and non NULL results.\", \n  .             i = cnd_bullet_rowwise_unlist())\n  .     }\n  .     else if (inherits(e, \"dplyr:::mutate_not_vector\")) {\n  .         bullets <- c(x = glue(\"Input `{error_name}` must be a vector, not {friendly_type_of(e$result)}.\"), \n  .             i = cnd_bullet_input_info(), i = cnd_bullet_rowwise_unlist())\n  .     }\n  .     else if (inherits(e, \"dplyr:::error_mutate_incompatible_combine\")) {\n  .         show_group_details <- FALSE\n  .         bullets <- c(x = glue(\"Input `{error_name}` must return compatible vectors across groups\"), \n  .             i = cnd_bullet_input_info(), i = cnd_bullet_combine_details(e$parent$x, \n  .                 e$parent$x_arg), i = cnd_bullet_combine_details(e$parent$y, \n  .                 e$parent$y_arg))\n  .     }\n  .     else {\n  .         bullets <- c(x = conditionMessage(e), i = cnd_bullet_input_info())\n  .     }\n  .     bullets <- c(cnd_bullet_header(), bullets, i = if (show_group_details) cnd_bullet_cur_group_label())\n  .     abort(bullets, class = c(\"dplyr:::mutate_error\", \"dplyr_error\"), \n  .         error_name = error_name, error_expression = error_expression, \n  .         parent = e, bullets = bullets)\n  . }, warning = function(w) {\n  .     if (check_muffled_warning(w)) {\n  .         maybe_restart(\"muffleWarning\")\n  .     }\n  .     local_call_step(dots = dots, .index = i, .fn = \"mutate\")\n  .     warn(c(cnd_bullet_header(), i = conditionMessage(w), i = cnd_bullet_input_info(), \n  .         i = cnd_bullet_cur_group_label()))\n  .     maybe_restart(\"muffleWarning\")\n  . })",
      "15. mask$eval_all_mutate(quo)",
      "16. format(date_time, \"%H:%M:%S\")",
      "17. format.default(date_time, \"%H:%M:%S\")",
      "18. prettyNum(.Internal(format(x, trim, digits, nsmall, width, 3L, \n  .     na.encode, scientific, decimal.mark)), big.mark = big.mark, \n  .     big.interval = big.interval, small.mark = small.mark, small.interval = small.interval, \n  .     decimal.mark = decimal.mark, input.d.mark = decimal.mark, \n  .     zero.print = zero.print, drop0trailing = drop0trailing, is.cmplx = is.complex(x), \n  .     preserve.width = if (trim) \"individual\" else \"common\")",
      "19. .handleSimpleError(function (e) \n  . {\n  .     local_call_step(dots = dots, .index = i, .fn = \"mutate\", \n  .         .dot_data = inherits(e, \"rlang_error_data_pronoun_not_found\"))\n  .     call_step_envir <- peek_call_step()\n  .     error_name <- call_step_envir$error_name\n  .     error_expression <- call_step_envir$error_expression\n  .     show_group_details <- TRUE\n  .     if (inherits(e, \"dplyr:::mutate_incompatible_size\")) {\n  .         size <- vec_size(rows[[mask$get_current_group()]])\n  .         x_size <- e$x_size\n  .         bullets <- c(x = glue(\"Input `{error_name}` can't be recycled to size {size}.\"), \n  .             i = cnd_bullet_input_info(), i = glue(\"Input `{error_name}` must be size {or_1(size)}, not {x_size}.\"), \n  .             i = cnd_bullet_rowwise_unlist())\n  .     }\n  .     else if (inherits(e, \"dplyr:::mutate_mixed_null\")) {\n  .         show_group_details <- FALSE\n  .         bullets <- c(x = glue(\"`{error_name}` must return compatible vectors across groups.\"), \n  .             i = cnd_bullet_input_info(), i = \"Cannot combine NULL and non NULL results.\", \n  .             i = cnd_bullet_rowwise_unlist())\n  .     }\n  .     else if (inherits(e, \"dplyr:::mutate_not_vector\")) {\n  .         bullets <- c(x = glue(\"Input `{error_name}` must be a vector, not {friendly_type_of(e$result)}.\"), \n  .             i = cnd_bullet_input_info(), i = cnd_bullet_rowwise_unlist())\n  .     }\n  .     else if (inherits(e, \"dplyr:::error_mutate_incompatible_combine\")) {\n  .         show_group_details <- FALSE\n  .         bullets <- c(x = glue(\"Input `{error_name}` must return compatible vectors across groups\"), \n  .             i = cnd_bullet_input_info(), i = cnd_bullet_combine_details(e$parent$x, \n  .                 e$parent$x_arg), i = cnd_bullet_combine_details(e$parent$y, \n  .                 e$parent$y_arg))\n  .     }\n  .     else {\n  .         bullets <- c(x = conditionMessage(e), i = cnd_bullet_input_info())\n  .     }\n  .     bullets <- c(cnd_bullet_header(), bullets, i = if (show_group_details) cnd_bullet_cur_group_label())\n  .     abort(bullets, class = c(\"dplyr:::mutate_error\", \"dplyr_error\"), \n  .         error_name = error_name, error_expression = error_expression, \n  .         parent = e, bullets = bullets)\n  . }, \"invalid 'trim' argument\", base::quote(prettyNum(.Internal(format(x, \n  .     trim, digits, nsmall, width, 3L, na.encode, scientific, decimal.mark)), \n  .     big.mark = big.mark, big.interval = big.interval, small.mark = small.mark, \n  .     small.interval = small.interval, decimal.mark = decimal.mark, \n  .     input.d.mark = decimal.mark, zero.print = zero.print, drop0trailing = drop0trailing, \n  .     is.cmplx = is.complex(x), preserve.width = if (trim) \"individual\" else \"common\")))",
      "20. h(simpleError(msg, call))",
      "21. abort(bullets, class = c(\"dplyr:::mutate_error\", \"dplyr_error\"), \n  .     error_name = error_name, error_expression = error_expression, \n  .     parent = e, bullets = bullets)",
      "22. signal_abort(cnd)"
     ]
    }
   ],
   "source": [
    "#Create a cleaned dataset (option to harmonize with Aquasat)\n",
    "df_S <- df %>% \n",
    "    wqp.tss.renamer() %>%\n",
    "    nonsense.methods.fxn() %>%\n",
    "    unit.harmony.fxn() %>%\n",
    "    date.format.fxn() %>%\n",
    "    datum.format.fxn() #%>%\n",
    "    #SNiP.Aquasat.join.fxn()\n",
    "\n",
    "# df_N <- df %>% \n",
    "#     wqp.N.renamer() %>%\n",
    "#     date.format.fxn() %>%\n",
    "#     datum.format.fxn() #%>%\n",
    "#     #SNiP.Aquasat.join.fxn()\n",
    "\n",
    "# df_P <- df %>% \n",
    "#     wqp.P.renamer() %>%\n",
    "#     date.format.fxn() %>%\n",
    "#     datum.format.fxn() #%>%\n",
    "#     #SNiP.Aquasat.join.fxn()\n",
    "\n",
    "# df_all <- df %>% \n",
    "#    wqp.renamer() %>%\n",
    "#    date.format.fxn() %>%\n",
    "#     datum.format.fxn() #%>%\n",
    "# #    SNiP.Aquasat.join.fxn()\n",
    "\n",
    "length(unique(df_S$SiteID))\n",
    "# length(unique(df_N$SiteID))\n",
    "# length(unique(df_P$SiteID))\n",
    "# length(unique(df_all$SiteID))\n",
    "nrow(df_S)\n",
    "# nrow(df_N)\n",
    "# nrow(df_P)\n",
    "#nrow(df_all)\n",
    "head(df_S)\n",
    "#rm(tss,tss.depth,tss.filtered,tss.lookup,tss.p,non.sensical.tss.methods,depth.lookup)"
   ]
  },
  {
   "cell_type": "code",
   "execution_count": 22,
   "id": "chubby-wheel",
   "metadata": {},
   "outputs": [
    {
     "data": {
      "text/html": [
       "137"
      ],
      "text/latex": [
       "137"
      ],
      "text/markdown": [
       "137"
      ],
      "text/plain": [
       "[1] 137"
      ]
     },
     "metadata": {},
     "output_type": "display_data"
    },
    {
     "data": {
      "text/html": [
       "617"
      ],
      "text/latex": [
       "617"
      ],
      "text/markdown": [
       "617"
      ],
      "text/plain": [
       "[1] 617"
      ]
     },
     "metadata": {},
     "output_type": "display_data"
    },
    {
     "data": {
      "text/html": [
       "137"
      ],
      "text/latex": [
       "137"
      ],
      "text/markdown": [
       "137"
      ],
      "text/plain": [
       "[1] 137"
      ]
     },
     "metadata": {},
     "output_type": "display_data"
    },
    {
     "data": {
      "text/html": [
       "617"
      ],
      "text/latex": [
       "617"
      ],
      "text/markdown": [
       "617"
      ],
      "text/plain": [
       "[1] 617"
      ]
     },
     "metadata": {},
     "output_type": "display_data"
    }
   ],
   "source": [
    "#Harmonize with Aquasat to get all sites that are Landsat visible\n",
    "df_S_aquaSNiP <- df_S %>%\n",
    "    SNiP.Aquasat.join.fxn()\n",
    "length(unique(df_S_aquaSNiP$SiteID.x))\n",
    "nrow(df_S_aquaSNiP)\n",
    "\n",
    "length(unique(df_S_aquaSNiP$SiteID.x))\n",
    "#length(unique(df_N$SiteID.x))\n",
    "#length(unique(df_P$SiteID.x))\n",
    "\n",
    "nrow(df_S_aquaSNiP)\n",
    "#nrow(df_N)\n",
    "#nrow(df_P)"
   ]
  },
  {
   "cell_type": "code",
   "execution_count": 31,
   "id": "adopted-dining",
   "metadata": {},
   "outputs": [],
   "source": [
    "HUC05_aquaSNIP <- saveRDS(df_S_aquaSNiP, file = \"/nas/cee-water/cjgleason/ellie/SNiP/HUC05_aquaSNiP.rds\")\n"
   ]
  },
  {
   "cell_type": "code",
   "execution_count": 32,
   "id": "behavioral-valuable",
   "metadata": {},
   "outputs": [],
   "source": [
    "HUC05_tss_clean <- saveRDS(df_S, file = \"/nas/cee-water/cjgleason/ellie/SNiP/HUC05_tss_clean_map.rds\")\n"
   ]
  },
  {
   "cell_type": "code",
   "execution_count": null,
   "id": "traditional-electronics",
   "metadata": {},
   "outputs": [],
   "source": []
  },
  {
   "cell_type": "code",
   "execution_count": null,
   "id": "opposed-nomination",
   "metadata": {},
   "outputs": [],
   "source": []
  },
  {
   "cell_type": "code",
   "execution_count": null,
   "id": "destroyed-support",
   "metadata": {},
   "outputs": [],
   "source": []
  },
  {
   "cell_type": "code",
   "execution_count": null,
   "id": "handmade-newspaper",
   "metadata": {},
   "outputs": [],
   "source": []
  },
  {
   "cell_type": "code",
   "execution_count": null,
   "id": "excess-death",
   "metadata": {},
   "outputs": [],
   "source": [
    "#The next is the code needed to build this and some visualizations"
   ]
  },
  {
   "cell_type": "code",
   "execution_count": null,
   "id": "available-spirituality",
   "metadata": {
    "tags": []
   },
   "outputs": [],
   "source": [
    "#Function to aggregate or discard multiple measurements and then split out data with date_time or date and time. \n",
    "#Needs columns to be characters\n",
    "#Havent done this yet\n",
    "pluribus <- function(dt,x,...){\n",
    "  #seperate out the data that has only 1 obs at unique site, datetime, and parameter combination. \n",
    "  #This should be most data and will simply be kept. \n",
    "  duplicated.index <- duplicated(dt %>% \n",
    "                                   select('SiteID','parameter','date'))\n",
    "  \n",
    "  \n",
    "  dt.not.unique <- dt %>%\n",
    "    filter(duplicated.index) \n",
    "  \n",
    "\n",
    "  #Okay lots of those have the same exact information. \n",
    "  #We can get rid of those kinds of duplicates with a simple duplicated call\n",
    "  distinct.index <- duplicated(dt.not.unique %>% \n",
    "                                 select('SiteID','value',\n",
    "                                         'parameter','date'))\n",
    "  \n",
    "  \n",
    "  \n",
    "  dt.distinct.okay <- dt.not.unique %>%\n",
    "    filter(distinct.index) %>%\n",
    "    #Add in the data that had no duplicates in the first place\n",
    "    rbind(dt %>% filter(!duplicated.index))\n",
    "\n",
    "\n",
    "\n",
    "  #What should we do with multiple data for the same site, time, and parameter? \n",
    "  dt.multiples <- dt.not.unique %>%\n",
    "    filter(!distinct.index) %>%\n",
    "    #The dots are so that the user can switch between datetime or date\n",
    "    group_by('SiteID','parameter','date') %>%\n",
    "    #Get the median and cv\n",
    "    mutate(count=n()) %>%\n",
    "    ungroup() %>%\n",
    "    filter(count < x) %>%\n",
    "    group_by('SiteID','parameter','date') %>%\n",
    "    mutate(median=median(value),\n",
    "           cv=sd(value)/mean(value)) %>%\n",
    "    ungroup() %>%\n",
    "    #Remove sites with cvs greater than 0.1\n",
    "    filter(cv < 0.1) %>%\n",
    "    #Keep only a single observation with unique combinations\n",
    "    distinct('SiteID','parameter','date',.keep_all=T) %>%\n",
    "    mutate(value = median) %>%\n",
    "    dplyr::select(-median,-cv,-count) \n",
    "  \n",
    "  return(rbind(dt.distinct.okay,dt.multiples) %>%\n",
    "           #Last bit of paranoia to catch any NAs or doubles that sneak through\n",
    "           distinct('SiteID','parameter','date',.keep_all=T))\n",
    "}\n",
    "date.time.splitter<- function(df) {\n",
    "  #Add an index and remove nas\n",
    "  dt <- df %>% \n",
    "    #Filter out data that has no date_time OR time data\n",
    "    filter(!is.na(date_time))\n",
    "  \n",
    "  #Date only data\n",
    "  d <- df %>%\n",
    "    filter(!index %in% dt$index) \n",
    "  \n",
    "  #dt.final <- pluribus(dt,5,'date_time')\n",
    "  d.final <- pluribus(d,20,'date')\n",
    "  \n",
    "  \n",
    "  #Put these two datasets into a list\n",
    "  out <- rbind(dt.final,d.final) %>%\n",
    "    dplyr::select(-index)\n",
    "  \n",
    "  \n",
    "  return(out)\n",
    "}"
   ]
  },
  {
   "cell_type": "code",
   "execution_count": null,
   "id": "single-mouse",
   "metadata": {},
   "outputs": [],
   "source": [
    "#Unit Harmonization"
   ]
  },
  {
   "cell_type": "code",
   "execution_count": null,
   "id": "dense-parish",
   "metadata": {},
   "outputs": [],
   "source": [
    "#This paper is really useful for exploring this data. In this paper, the USGS directly compares estimates of Suspended Sediment Concentration (SSC) and Total Suspended Solids (TSS). \n",
    "#The primary difference between these methods, as laid out in this paper, is that SSC estimates the mass of suspended solids \n",
    "#in a sample volume, by drying out the entire sample without subsampling the water volume. TSS methods often involve some form \n",
    "#of subsampling of the total water volume. The paper highlights that while many estimates of TSS and SSC are essentially the same, samples with high sand content show systematic \n",
    "#bias in TSS estimates. For our purposes, we have no apriori way to distinguish samples with high or low sand, so we have made the choice to assume that measurements \n",
    "#of SSC and TSS are, over the bulk of samples, the same. We use the term “TSS” from here on to describe this data that is both SSC and TSS.\n",
    "\n",
    "# HUC06_tss_units <- df %>% wqp.tss.renamer()\n",
    "\n",
    "# HUC06_tss_method <- df %>% wqp.tss.renamer() \n",
    "# HUC06_tss_method %>%\n",
    "#     count(particle_size)   \n",
    "\n",
    "HUC06_P_units <- df %>% wqp.P.renamer()\n",
    "HUC06_P_method <- df %>% wqp.P.renamer() \n",
    "   \n",
    "HUC06_P_method %>%\n",
    "    count(analytical_method)"
   ]
  },
  {
   "cell_type": "code",
   "execution_count": null,
   "id": "chubby-proposition",
   "metadata": {},
   "outputs": [],
   "source": [
    "#Phosphorus\n",
    "#There are a lot of parameter codes so we are just going to use a grepl command with key words that definitely disqualify the sample\n",
    "\n",
    "non.sensical.P.methods <- HUC06_P_method %>%\n",
    "  filter(grepl(\"Oxygen|Nitrogen|Ammonia|Metals|E. coli|Anions|Carbon|Cation|Sediment|Silica|PH|HARDNESS|Nutrient|Turbidity|Temperature|Nitrate|Conductance|Alkalinity|Chlorophyll\",analytical_method,ignore.case=T))\n",
    "\n",
    "\n",
    "P.filtered.method <- HUC06_P_method %>%\n",
    "  filter(!analytical_method %in% non.sensical.P.methods$analytical_method)\n",
    "\n",
    "print(paste('We dropped', round(nrow(non.sensical.P.methods)/nrow(HUC06_P_method)*100,2),'% of samples, because the method used did not make sense. These methods are:'))\n",
    "print(unique(non.sensical.P.methods$analytical_method),wrap='',sep=' - ') #Nice function for printing long vectors horizontally separated by dash\n"
   ]
  },
  {
   "cell_type": "code",
   "execution_count": null,
   "id": "divine-utility",
   "metadata": {},
   "outputs": [],
   "source": [
    "#There are a lot of parameter codes so we are just going to use a grepl command with key words that definitely disqualify the sample\n",
    "\n",
    "non.sensical.tss.methods <- HUC06_tss_method %>%\n",
    "  filter(grepl(\"Oxygen|Pipet|Nitrogen|Ammonia|Metals|E. coli|Carbon|Anion|Cation|Phosphorus|Silica|PH|HARDNESS|Nutrient|Turbidity|Temperature|Nitrate|Conductance|Alkalinity|Chlorophyll\",analytical_method,ignore.case=T))\n",
    "\n",
    "\n",
    "tss.filtered.method <- HUC06_tss_method %>%\n",
    "  filter(!analytical_method %in% non.sensical.tss.methods$analytical_method)\n",
    "\n",
    "print(paste('We dropped', round(nrow(non.sensical.tss.methods)/nrow(HUC06_tss_method)*100,2),'% of samples, because the method used did not make sense. These methods are:'))\n",
    "print(unique(non.sensical.tss.methods$analytical_method),wrap='',sep=' - ') #Nice function for printing long vectors horizontally separated by dash\n"
   ]
  },
  {
   "cell_type": "code",
   "execution_count": 23,
   "id": "auburn-violence",
   "metadata": {},
   "outputs": [
    {
     "ename": "ERROR",
     "evalue": "Error in filter(., units == \"%\" & (particle_size %in% c(\"< 0.0625 mm\", : object 'HUC06_tss_units' not found\n",
     "output_type": "error",
     "traceback": [
      "Error in filter(., units == \"%\" & (particle_size %in% c(\"< 0.0625 mm\", : object 'HUC06_tss_units' not found\nTraceback:\n",
      "1. HUC06_tss_units %>% filter(units == \"%\" & (particle_size %in% \n .     c(\"< 0.0625 mm\", \"sands\"))) %>% mutate(conversion = NA, harmonized_parameter = \"p.sand\", \n .     harmonized_value = \"value\", harmonized_unit = \"%\")",
      "2. mutate(., conversion = NA, harmonized_parameter = \"p.sand\", harmonized_value = \"value\", \n .     harmonized_unit = \"%\")",
      "3. filter(., units == \"%\" & (particle_size %in% c(\"< 0.0625 mm\", \n .     \"sands\")))"
     ]
    }
   ],
   "source": [
    "#Select only units for %\n",
    "#Keep only the sand fraction data ('< 0.0625 mm','sands')\n",
    "tss.p <- HUC06_tss_units %>%\n",
    "    filter(units =='%' & (particle_size %in%  c('< 0.0625 mm','sands'))) %>%\n",
    "    mutate(conversion=NA,\n",
    "         harmonized_parameter='p.sand',\n",
    "         harmonized_value='value',\n",
    "         harmonized_unit='%')\n",
    "ncol(tss.p)"
   ]
  },
  {
   "cell_type": "code",
   "execution_count": null,
   "id": "prerequisite-editing",
   "metadata": {},
   "outputs": [],
   "source": [
    "#Make a tss lookup table\n",
    "tss.lookup <- tibble(units=c('mg/l','g/l','ug/l','ppm'),\n",
    "                        conversion = c(1,1000,1/1000,1))\n",
    "\n",
    "\n",
    "#Join to the lookup table and harmonize units\n",
    "\n",
    "tss.harmonized <- tss.filtered.method %>%\n",
    "  inner_join(tss.lookup,by='units') %>%\n",
    "  mutate(harmonized_parameter = 'tss',\n",
    "         harmonized_value='value'*conversion,\n",
    "         harmonized_unit='mg/l') \n",
    "tss.harmonized.p <- rbind(tss.p, tss.harmonized)\n",
    "  #Change harmonized parameter to tis for parameter \"fixed suspended solids\"\n",
    "  #mutate(harmonized_parameter = ifelse(parameter == 'Fixed suspended solids','tis',harmonized_parameter))\n",
    "#rm(tss,tss.depth,tss.filtered,tss.lookup,tss.p,non.sensical.tss.methods,depth.lookup)"
   ]
  },
  {
   "cell_type": "code",
   "execution_count": null,
   "id": "forty-genius",
   "metadata": {},
   "outputs": [],
   "source": [
    "#Explore their date syntax\n",
    "#Since a lot of this is already in UTC and date, need to convert or create filter for class\n",
    "HUC06_full_date <- HUC06_full %>%\n",
    "    dplyr::select(date, time, date_time)\n",
    "head(HUC06_full_date)\n",
    "\n",
    "class(HUC06_full_date$date)\n",
    "class(HUC06_full_date$date_time)\n",
    "class(HUC06_full_date$time)"
   ]
  },
  {
   "cell_type": "code",
   "execution_count": null,
   "id": "organizational-playlist",
   "metadata": {},
   "outputs": [],
   "source": [
    "#looks like it's pretty much there\n",
    "#But now add the aquasat conversion and syntax for time and date_only\n",
    "\n",
    "HUC06_tss <- HUC06_tss %>%\n",
    "    mutate(time = as.character(format(date_time, '%H:%M:%S'))) %>%\n",
    "    mutate(date = as.character(date)) %>%\n",
    "    mutate(date_only= as.character(ifelse(is.na(date_time) | time == '00:00:00',T,F))) %>%\n",
    "    mutate(date_unity = as.character(ymd_hms(ifelse(date_only == T,\n",
    "                             paste(date,'00:00:00'),\n",
    "                             as.character(date_time)),\n",
    "                             tz='UTC'))) %>%\n",
    "  #remove any time stamps that are NA\n",
    "  filter(!is.na(date_unity))\n",
    "\n",
    "class(HUC06_tss$date_only)\n",
    "class(HUC06_tss$date)\n",
    "class(HUC06_tss$date_unity)\n",
    "class(HUC06_tss$time)"
   ]
  },
  {
   "cell_type": "code",
   "execution_count": null,
   "id": "steady-copyright",
   "metadata": {},
   "outputs": [],
   "source": [
    "#Datum time\n",
    "table(HUC06_tss$datum)"
   ]
  },
  {
   "cell_type": "code",
   "execution_count": null,
   "id": "personalized-romance",
   "metadata": {},
   "outputs": [],
   "source": [
    "#From Aquasat:\n",
    "#Setup a datum table to transform different datums into WGS84 for GEE and to \n",
    "#match LAGOS. Note that we make the somewhat reisky decision that others and unknowns\n",
    "# are mostly NAD83 (since > 60% of the data is originally in that projection)\n",
    "\n",
    "datum_epsg <- tibble(datum=c('NAD27','NAD83','OTHER','UNKWN','WGS84'),\n",
    "                     epsg=c(4267,4269,4269,4269,4326))\n",
    "\n",
    "\n",
    "\n",
    "\n",
    "# Get distinct lat longs and sites\n",
    "inv_uniques <- HUC06_tss %>%\n",
    "  distinct(SiteID,lat,long,datum)\n",
    "\n",
    "## project inventory using the above lookup table\n",
    "## Have to loop over each projection\n",
    "projected <- list() \n",
    "\n",
    "for(i in 1:nrow(datum_epsg)){\n",
    "  #Select each datum iteratively\n",
    "  d1 <- datum_epsg[i,]\n",
    "  # Join inventory to that datum only and then feed it that CRS and then \n",
    "  # transform to wgs84\n",
    "  inv_reproj <- inv_uniques %>%\n",
    "    filter(datum == d1$datum) %>%\n",
    "    inner_join(d1, by='datum') %>%\n",
    "    st_as_sf(.,coords=c('long','lat'),crs=d1$epsg) %>%\n",
    "    st_transform(4326)\n",
    "  \n",
    "  projected[[i]] <- inv_reproj\n",
    "}\n",
    "\n",
    "# Note that we lose some sites in GUAM which is intentional\n",
    "# Add back in lat longs which are all WGS84 now\n",
    "inv_wgs84 <- do.call('rbind',projected) %>%\n",
    "  mutate(lat = st_coordinates(.)[,2],\n",
    "         long=st_coordinates(.)[,1]) %>%\n",
    "  as.data.frame(.) %>%\n",
    "  select(-geometry,-datum) \n",
    "names(inv_wgs84)"
   ]
  },
  {
   "cell_type": "code",
   "execution_count": null,
   "id": "suspected-calgary",
   "metadata": {},
   "outputs": [],
   "source": [
    "HUC06_tss_geo <- inner_join(HUC06_tss, inv_wgs84, by = 'SiteID')\n",
    "head(HUC06_tss_geo)"
   ]
  },
  {
   "cell_type": "code",
   "execution_count": null,
   "id": "threaded-intake",
   "metadata": {},
   "outputs": [],
   "source": [
    "names(aquastream)\n",
    "names(HUC06_tss_geo)"
   ]
  },
  {
   "cell_type": "code",
   "execution_count": null,
   "id": "obvious-macintosh",
   "metadata": {},
   "outputs": [],
   "source": [
    "#Join what I have to aquasat to get their landsat ID. This is to see what difference I have for tss and then \n",
    "#to save some time for N and P. Keep the discard as well for later.\n",
    "HUC06_tss_slim <- HUC06_tss_geo %>%\n",
    "    dplyr::select(-lat.x, -long.x) %>%\n",
    "    dplyr::rename(lat = lat.y, long=long.y) %>%\n",
    "    dplyr::select(parameter, units, SiteID, lat, long, datum, value, particle_size, date, time, date_time)\n",
    "\n",
    "HUC06_aqua_tss <- inner_join(HUC06_tss_slim, aquastream, by = c(\"lat\" =\"lat\", \"long\" = \"long\", \"date\" = \"date\"))   \n",
    "head(HUC06_aqua_tss)"
   ]
  },
  {
   "cell_type": "code",
   "execution_count": null,
   "id": "instructional-final",
   "metadata": {},
   "outputs": [],
   "source": [
    "nrow(HUC06_aqua_tss)"
   ]
  },
  {
   "cell_type": "code",
   "execution_count": null,
   "id": "lovely-coupon",
   "metadata": {},
   "outputs": [],
   "source": []
  },
  {
   "cell_type": "code",
   "execution_count": null,
   "id": "measured-sister",
   "metadata": {},
   "outputs": [],
   "source": []
  },
  {
   "cell_type": "code",
   "execution_count": null,
   "id": "powered-wisdom",
   "metadata": {},
   "outputs": [],
   "source": [
    "#visualize tss distribution from 1984-present\n",
    "\n",
    "ggplot(HUC06_sed, aes(x=date)) + \n",
    "    geom_histogram(color=\"black\", fill=\"white\", bins=38) "
   ]
  },
  {
   "cell_type": "code",
   "execution_count": 38,
   "id": "younger-property",
   "metadata": {},
   "outputs": [
    {
     "data": {
      "text/html": [
       "<style>\n",
       ".list-inline {list-style: none; margin:0; padding: 0}\n",
       ".list-inline>li {display: inline-block}\n",
       ".list-inline>li:not(:last-child)::after {content: \"\\00b7\"; padding: 0 .5ex}\n",
       "</style>\n",
       "<ol class=list-inline><li>'date'</li><li>'parameter'</li><li>'units'</li><li>'SiteID'</li><li>'org'</li><li>'org_id'</li><li>'time'</li><li>'value'</li><li>'sample_method'</li><li>'analytical_method'</li><li>'particle_size'</li><li>'date_time'</li><li>'media'</li><li>'sample_depth'</li><li>'sample_depth_unit'</li><li>'fraction'</li><li>'status'</li><li>'lat.x'</li><li>'long.x'</li><li>'datum'</li><li>'date_only'</li><li>'date_unity'</li><li>'epsg'</li><li>'lat.y'</li><li>'long.y'</li></ol>\n"
      ],
      "text/latex": [
       "\\begin{enumerate*}\n",
       "\\item 'date'\n",
       "\\item 'parameter'\n",
       "\\item 'units'\n",
       "\\item 'SiteID'\n",
       "\\item 'org'\n",
       "\\item 'org\\_id'\n",
       "\\item 'time'\n",
       "\\item 'value'\n",
       "\\item 'sample\\_method'\n",
       "\\item 'analytical\\_method'\n",
       "\\item 'particle\\_size'\n",
       "\\item 'date\\_time'\n",
       "\\item 'media'\n",
       "\\item 'sample\\_depth'\n",
       "\\item 'sample\\_depth\\_unit'\n",
       "\\item 'fraction'\n",
       "\\item 'status'\n",
       "\\item 'lat.x'\n",
       "\\item 'long.x'\n",
       "\\item 'datum'\n",
       "\\item 'date\\_only'\n",
       "\\item 'date\\_unity'\n",
       "\\item 'epsg'\n",
       "\\item 'lat.y'\n",
       "\\item 'long.y'\n",
       "\\end{enumerate*}\n"
      ],
      "text/markdown": [
       "1. 'date'\n",
       "2. 'parameter'\n",
       "3. 'units'\n",
       "4. 'SiteID'\n",
       "5. 'org'\n",
       "6. 'org_id'\n",
       "7. 'time'\n",
       "8. 'value'\n",
       "9. 'sample_method'\n",
       "10. 'analytical_method'\n",
       "11. 'particle_size'\n",
       "12. 'date_time'\n",
       "13. 'media'\n",
       "14. 'sample_depth'\n",
       "15. 'sample_depth_unit'\n",
       "16. 'fraction'\n",
       "17. 'status'\n",
       "18. 'lat.x'\n",
       "19. 'long.x'\n",
       "20. 'datum'\n",
       "21. 'date_only'\n",
       "22. 'date_unity'\n",
       "23. 'epsg'\n",
       "24. 'lat.y'\n",
       "25. 'long.y'\n",
       "\n",
       "\n"
      ],
      "text/plain": [
       " [1] \"date\"              \"parameter\"         \"units\"            \n",
       " [4] \"SiteID\"            \"org\"               \"org_id\"           \n",
       " [7] \"time\"              \"value\"             \"sample_method\"    \n",
       "[10] \"analytical_method\" \"particle_size\"     \"date_time\"        \n",
       "[13] \"media\"             \"sample_depth\"      \"sample_depth_unit\"\n",
       "[16] \"fraction\"          \"status\"            \"lat.x\"            \n",
       "[19] \"long.x\"            \"datum\"             \"date_only\"        \n",
       "[22] \"date_unity\"        \"epsg\"              \"lat.y\"            \n",
       "[25] \"long.y\"           "
      ]
     },
     "metadata": {},
     "output_type": "display_data"
    },
    {
     "name": "stderr",
     "output_type": "stream",
     "text": [
      "Warning message:\n",
      "“Removed 9169 rows containing non-finite values (stat_bin).”\n",
      "Warning message:\n",
      "“Removed 2 rows containing missing values (geom_bar).”\n"
     ]
    },
    {
     "data": {
      "image/png": "[encoded data removed]",
      "text/plain": [
       "plot without title"
      ]
     },
     "metadata": {
      "image/png": {
       "height": 420,
       "width": 420
      }
     },
     "output_type": "display_data"
    }
   ],
   "source": [
    "names(df_N)\n",
    "ggplot(df_N) +\n",
    "    geom_histogram(aes(value), color=\"black\", fill=\"white\", bins = 50) +\n",
    "    xlim(0,10)"
   ]
  },
  {
   "cell_type": "code",
   "execution_count": 43,
   "id": "stretch-hypothesis",
   "metadata": {},
   "outputs": [
    {
     "name": "stderr",
     "output_type": "stream",
     "text": [
      "Warning message:\n",
      "“Removed 573 rows containing non-finite values (stat_bin).”\n",
      "Warning message:\n",
      "“Removed 2 rows containing missing values (geom_bar).”\n"
     ]
    },
    {
     "data": {
      "image/png": "[encoded data removed]",
      "text/plain": [
       "plot without title"
      ]
     },
     "metadata": {
      "image/png": {
       "height": 420,
       "width": 420
      }
     },
     "output_type": "display_data"
    }
   ],
   "source": [
    "ggplot(df_P, aes(x=value)) + geom_histogram(color=\"black\", fill=\"white\", bins=50) +\n",
    "    xlim(0,1)"
   ]
  },
  {
   "cell_type": "code",
   "execution_count": 40,
   "id": "collect-accent",
   "metadata": {},
   "outputs": [
    {
     "data": {
      "text/html": [
       "<table>\n",
       "<caption>A data.frame: 7 x 2</caption>\n",
       "<thead>\n",
       "\t<tr><th></th><th scope=col>units</th><th scope=col>n</th></tr>\n",
       "\t<tr><th></th><th scope=col>&lt;chr&gt;</th><th scope=col>&lt;int&gt;</th></tr>\n",
       "</thead>\n",
       "<tbody>\n",
       "\t<tr><th scope=row>1</th><td>mg        </td><td>  147</td></tr>\n",
       "\t<tr><th scope=row>2</th><td>mg/l      </td><td>61691</td></tr>\n",
       "\t<tr><th scope=row>3</th><td>mg/l as N </td><td> 5544</td></tr>\n",
       "\t<tr><th scope=row>4</th><td>mg/l asNO3</td><td> 2168</td></tr>\n",
       "\t<tr><th scope=row>5</th><td>ppm       </td><td>   72</td></tr>\n",
       "\t<tr><th scope=row>6</th><td>ueq/L     </td><td>12611</td></tr>\n",
       "\t<tr><th scope=row>7</th><td>ug/l      </td><td>  783</td></tr>\n",
       "</tbody>\n",
       "</table>\n"
      ],
      "text/latex": [
       "A data.frame: 7 x 2\n",
       "\\begin{tabular}{r|ll}\n",
       "  & units & n\\\\\n",
       "  & <chr> & <int>\\\\\n",
       "\\hline\n",
       "\t1 & mg         &   147\\\\\n",
       "\t2 & mg/l       & 61691\\\\\n",
       "\t3 & mg/l as N  &  5544\\\\\n",
       "\t4 & mg/l asNO3 &  2168\\\\\n",
       "\t5 & ppm        &    72\\\\\n",
       "\t6 & ueq/L      & 12611\\\\\n",
       "\t7 & ug/l       &   783\\\\\n",
       "\\end{tabular}\n"
      ],
      "text/markdown": [
       "\n",
       "A data.frame: 7 x 2\n",
       "\n",
       "| <!--/--> | units &lt;chr&gt; | n &lt;int&gt; |\n",
       "|---|---|---|\n",
       "| 1 | mg         |   147 |\n",
       "| 2 | mg/l       | 61691 |\n",
       "| 3 | mg/l as N  |  5544 |\n",
       "| 4 | mg/l asNO3 |  2168 |\n",
       "| 5 | ppm        |    72 |\n",
       "| 6 | ueq/L      | 12611 |\n",
       "| 7 | ug/l       |   783 |\n",
       "\n"
      ],
      "text/plain": [
       "  units      n    \n",
       "1 mg           147\n",
       "2 mg/l       61691\n",
       "3 mg/l as N   5544\n",
       "4 mg/l asNO3  2168\n",
       "5 ppm           72\n",
       "6 ueq/L      12611\n",
       "7 ug/l         783"
      ]
     },
     "metadata": {},
     "output_type": "display_data"
    }
   ],
   "source": [
    "df_N %>%\n",
    "    count(units)"
   ]
  },
  {
   "cell_type": "code",
   "execution_count": 41,
   "id": "african-reality",
   "metadata": {},
   "outputs": [
    {
     "data": {
      "text/html": [
       "<table>\n",
       "<caption>A data.frame: 8 x 2</caption>\n",
       "<thead>\n",
       "\t<tr><th></th><th scope=col>units</th><th scope=col>n</th></tr>\n",
       "\t<tr><th></th><th scope=col>&lt;chr&gt;</th><th scope=col>&lt;int&gt;</th></tr>\n",
       "</thead>\n",
       "<tbody>\n",
       "\t<tr><th scope=row>1</th><td>#/100ml   </td><td>    1</td></tr>\n",
       "\t<tr><th scope=row>2</th><td>%         </td><td>   37</td></tr>\n",
       "\t<tr><th scope=row>3</th><td>mg/l      </td><td>42972</td></tr>\n",
       "\t<tr><th scope=row>4</th><td>mg/l PO4  </td><td>   50</td></tr>\n",
       "\t<tr><th scope=row>5</th><td>mg/l as P </td><td> 5194</td></tr>\n",
       "\t<tr><th scope=row>6</th><td>mg/l asPO4</td><td> 1765</td></tr>\n",
       "\t<tr><th scope=row>7</th><td>ug/l      </td><td>   81</td></tr>\n",
       "\t<tr><th scope=row>8</th><td>NA        </td><td>    1</td></tr>\n",
       "</tbody>\n",
       "</table>\n"
      ],
      "text/latex": [
       "A data.frame: 8 x 2\n",
       "\\begin{tabular}{r|ll}\n",
       "  & units & n\\\\\n",
       "  & <chr> & <int>\\\\\n",
       "\\hline\n",
       "\t1 & \\#/100ml    &     1\\\\\n",
       "\t2 & \\%          &    37\\\\\n",
       "\t3 & mg/l       & 42972\\\\\n",
       "\t4 & mg/l PO4   &    50\\\\\n",
       "\t5 & mg/l as P  &  5194\\\\\n",
       "\t6 & mg/l asPO4 &  1765\\\\\n",
       "\t7 & ug/l       &    81\\\\\n",
       "\t8 & NA         &     1\\\\\n",
       "\\end{tabular}\n"
      ],
      "text/markdown": [
       "\n",
       "A data.frame: 8 x 2\n",
       "\n",
       "| <!--/--> | units &lt;chr&gt; | n &lt;int&gt; |\n",
       "|---|---|---|\n",
       "| 1 | #/100ml    |     1 |\n",
       "| 2 | %          |    37 |\n",
       "| 3 | mg/l       | 42972 |\n",
       "| 4 | mg/l PO4   |    50 |\n",
       "| 5 | mg/l as P  |  5194 |\n",
       "| 6 | mg/l asPO4 |  1765 |\n",
       "| 7 | ug/l       |    81 |\n",
       "| 8 | NA         |     1 |\n",
       "\n"
      ],
      "text/plain": [
       "  units      n    \n",
       "1 #/100ml        1\n",
       "2 %             37\n",
       "3 mg/l       42972\n",
       "4 mg/l PO4      50\n",
       "5 mg/l as P   5194\n",
       "6 mg/l asPO4  1765\n",
       "7 ug/l          81\n",
       "8 NA             1"
      ]
     },
     "metadata": {},
     "output_type": "display_data"
    }
   ],
   "source": [
    "df_P %>%\n",
    "    count(units)"
   ]
  },
  {
   "cell_type": "code",
   "execution_count": null,
   "id": "headed-stone",
   "metadata": {},
   "outputs": [],
   "source": []
  }
 ],
 "metadata": {
  "kernelspec": {
   "display_name": "R",
   "language": "R",
   "name": "ir"
  },
  "language_info": {
   "codemirror_mode": "r",
   "file_extension": ".r",
   "mimetype": "text/x-r-source",
   "name": "R",
   "pygments_lexer": "r",
   "version": "4.0.3"
  }
 },
 "nbformat": 4,
 "nbformat_minor": 5
}
